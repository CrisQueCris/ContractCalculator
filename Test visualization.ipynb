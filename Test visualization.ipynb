{
 "cells": [
  {
   "cell_type": "code",
   "execution_count": 35,
   "id": "d6548850-f7f3-4b15-9502-c396757cf272",
   "metadata": {},
   "outputs": [],
   "source": [
    "from dash import Dash, dcc, html, dash_table, ctx\n",
    "from dash.dependencies import Input, Output, State\n",
    "import pandas as pd\n",
    "from datetime import date, timedelta, datetime\n",
    "import sqlite3\n",
    "import plotly.graph_objects as go\n",
    "import plotly.express as px\n",
    "from ModulScrapeWallstreet import scrape_futureprice, future_price_to_sql, extrapolate_data\n",
    "import json\n",
    "import numpy as np\n",
    "from modules_app import *\n",
    "from plotly.subplots import make_subplots"
   ]
  },
  {
   "cell_type": "code",
   "execution_count": 2,
   "id": "bdd40e3a-4aa1-4261-a3d0-b2146cfbc02c",
   "metadata": {},
   "outputs": [],
   "source": [
    "def load_dfs():\n",
    "    \"\"\"loads commodities_df, contracts_df, price_df from contrcalc.db\"\"\" \n",
    "    try:\n",
    "        print('Attempt to load commodites_df, contracts_df and price_df from sql database')\n",
    "        con = sqlite3.connect('contrcalc.db')\n",
    "        print('conntected to db')\n",
    "        commodities_df = pd.read_sql(\"Select * from commodities\", con, index_col='commodity_id')\n",
    "        commodities_df_json = commodities_df.to_json(date_format='iso', orient='split')\n",
    "        print('loaded commodities')\n",
    "\n",
    "\n",
    "        contracts_df = pd.read_sql('Select * FROM contracts', con)\n",
    "        print(contracts_df)\n",
    "        contracts_df_json= contracts_df.to_json(date_format='iso', orient='split')\n",
    "        print('loaded contracts')\n",
    "\n",
    "\n",
    "        price_df = pd.read_sql('Select * FROM price_table', con, index_col='price_id')\n",
    "        price_df_json = price_df.to_json(date_format='iso', orient='split')\n",
    "        print('loaded prices')\n",
    "        output_message = f'reloaded data: {commodities_df.columns}, {contracts_df.columns}, {price_df.columns}'\n",
    "        com_list = [com for com in commodities_df['name']]\n",
    "    except:\n",
    "        output_message = \"Error: couldn't reload data from database\"\n",
    "        print(output_message)\n",
    "    return output_message, com_list, price_df_json, contracts_df_json, commodities_df_json "
   ]
  },
  {
   "cell_type": "code",
   "execution_count": 3,
   "id": "4781cb7e-75ad-4f62-9288-3299cfd2508e",
   "metadata": {},
   "outputs": [
    {
     "name": "stdout",
     "output_type": "stream",
     "text": [
      "Attempt to load commodites_df, contracts_df and price_df from sql database\n",
      "conntected to db\n",
      "loaded commodities\n",
      "   contract_id  commodity_id  price_per_to  amount_to date_closure  \\\n",
      "0            1             2           300        300   2022-05-20   \n",
      "\n",
      "  date_fullfillment  \n",
      "0        2022-11-01  \n",
      "loaded contracts\n",
      "loaded prices\n"
     ]
    }
   ],
   "source": [
    " output_message, com_list, price_df_json, contracts_df_json, commodities_df_json = load_dfs()"
   ]
  },
  {
   "cell_type": "code",
   "execution_count": 179,
   "id": "41c03bda-e857-4fd4-a162-24d7067bcbc4",
   "metadata": {},
   "outputs": [],
   "source": [
    "def toggle_futures_dropdown(price_df_json, commodities_df_json):\n",
    "    price_df = pd.read_json(price_df_json, orient = 'split')\n",
    "    commodities_df = pd.read_json(commodities_df_json, orient = 'split')\n",
    "    fullfillment_options = pd.to_datetime(price_df[price_df['commodity_id']==2]['date_fullfillment'], format='%Y/%m/%d').dt.date.unique().tolist()\n",
    "    fullfillment_value = sorted(pd.to_datetime(price_df[price_df['commodity_id']==2]['date_fullfillment'], format='%Y/%m/%d').dt.date.unique().tolist())[0:2]\n",
    "    return fullfillment_options, fullfillment_value"
   ]
  },
  {
   "cell_type": "code",
   "execution_count": 180,
   "id": "b388dbcd-ecd6-42a5-917a-81ad17f9ad0d",
   "metadata": {},
   "outputs": [],
   "source": [
    "fullfillment_options, fullfillment_value, price_df = toggle_futures_dropdown(price_df_json, commodities_df_json)"
   ]
  },
  {
   "cell_type": "code",
   "execution_count": 181,
   "id": "abffdfb6-fb50-4d2c-b517-5fea4a0bfc6c",
   "metadata": {},
   "outputs": [
    {
     "data": {
      "text/plain": [
       "array([datetime.date(2022, 5, 20), datetime.date(2022, 5, 23),\n",
       "       datetime.date(2022, 7, 7), datetime.date(2022, 11, 23),\n",
       "       datetime.date(2023, 1, 23), datetime.date(2023, 3, 23),\n",
       "       datetime.date(2023, 5, 23), datetime.date(2023, 7, 7),\n",
       "       datetime.date(2023, 11, 23), datetime.date(2024, 1, 23),\n",
       "       datetime.date(2024, 3, 22)], dtype=object)"
      ]
     },
     "execution_count": 181,
     "metadata": {},
     "output_type": "execute_result"
    }
   ],
   "source": [
    "\n",
    "pd.to_datetime(price_df[price_df['commodity_id']==2]['date_fullfillment'], format='%Y/%m/%d %H:%M:%S').dt.date.unique()"
   ]
  },
  {
   "cell_type": "code",
   "execution_count": 182,
   "id": "979e04f3-1104-4244-ae87-42fca9851091",
   "metadata": {},
   "outputs": [
    {
     "data": {
      "text/plain": [
       "([datetime.date(2022, 5, 20),\n",
       "  datetime.date(2022, 5, 23),\n",
       "  datetime.date(2022, 7, 7),\n",
       "  datetime.date(2022, 11, 23),\n",
       "  datetime.date(2023, 1, 23),\n",
       "  datetime.date(2023, 3, 23),\n",
       "  datetime.date(2023, 5, 23),\n",
       "  datetime.date(2023, 7, 7),\n",
       "  datetime.date(2023, 11, 23),\n",
       "  datetime.date(2024, 1, 23),\n",
       "  datetime.date(2024, 3, 22)],\n",
       " [datetime.date(2022, 5, 20), datetime.date(2022, 5, 23)])"
      ]
     },
     "execution_count": 182,
     "metadata": {},
     "output_type": "execute_result"
    }
   ],
   "source": [
    "fullfillment_options, fullfillment_value"
   ]
  },
  {
   "cell_type": "code",
   "execution_count": 81,
   "id": "1da58c84-c908-4758-99e7-208cbed1564c",
   "metadata": {},
   "outputs": [],
   "source": [
    "dates_ff = fullfillment_value\n",
    "harvest_area = 100\n",
    "harvest_tph = 8"
   ]
  },
  {
   "cell_type": "code",
   "execution_count": 125,
   "id": "af1c0725-30f9-456d-8d43-e47589d92aa6",
   "metadata": {},
   "outputs": [],
   "source": [
    "def plot_futures_contracts_harvest(dates_ff, harvest_area, harvest_tph, price_df_json, contracts_df_json, commodities_df_json):\n",
    "        \n",
    "    commodities_df = pd.read_json(commodities_df_json, orient='split')\n",
    "    contracts_df = pd.read_json(contracts_df_json, orient='split')\n",
    "    price_df = pd.read_json(price_df_json, orient='split')\n",
    "    #print('Adding Data to Figure')\n",
    "    #print(price_df['price'])\n",
    "    #print(price_df['date_fullfillment'])\n",
    "    fig = make_subplots(specs=[[{\"secondary_y\": True}]])\n",
    "       \n",
    "    # Plot the prices of the selected Futures on the y axis and the date of these prices on the y axis   \n",
    "    selected_futures_dates = dates_ff  #all available closing dates of Futures\n",
    "    #print(f'Available closing dates: {dff}')\n",
    "    price_df['date_fullfillment']= pd.to_datetime(price_df['date_fullfillment'], format='%Y/%m/%d %H:%M:%S').dt.date\n",
    "    price_df['date_price']= pd.to_datetime(price_df['date_price'], format='%Y/%m/%d %H:%M:%S').dt.date\n",
    "    selected_futures_dates_df =pd.DataFrame(selected_futures_dates, columns=['dates_fullfillment'])\n",
    "    \n",
    "    selected_futures_dates_df['dates_fullfillment'] =pd.to_datetime(selected_futures_dates_df['dates_fullfillment'], format='%Y/%m/%d %H:%M:%S').dt.date  \n",
    "    \n",
    "    try:\n",
    "        \n",
    "        for date_fullfillment in selected_futures_dates_df['dates_fullfillment']:\n",
    "            print(f'plotting future with fullfillment date:{date_fullfillment}')\n",
    "            fig.add_trace(go.Scatter(x=price_df[price_df['date_fullfillment']==date_fullfillment]['date_price'],\\\n",
    "                                     y=price_df[price_df['date_fullfillment']==date_fullfillment]['price'],\\\n",
    "                                     mode='lines+markers', name=f'fullfill until: {date_fullfillment}'),\\\n",
    "                          secondary_y=False)\n",
    "            fig.update_traces(marker=dict(colorscale='Agsunset'))\n",
    "        print('Succesfully ploted future price data')\n",
    "    except:\n",
    "        print(\"Error: Couldn't plot future price data\")\n",
    "\n",
    "    \n",
    "    \n",
    "    #Plot the prices per to of closed contracts on the y axis and the dates of closure on the x axis as points\n",
    "    price_per_to_of_closed_contracts = contracts_df['price_per_to']\n",
    "    dates_of_closed_contracts = contracts_df['date_closure']\n",
    "    fullfillment_dates_of_contracts = contracts_df['date_fullfillment']\n",
    "    \n",
    "    try:    \n",
    "        \n",
    "        fig.add_trace(go.Scatter(name=\"date/price closed\", x=dates_of_closed_contracts, y=price_per_to_of_closed_contracts, mode='markers'), secondary_y=False, )\n",
    "        fig.update_yaxes(title_text=\"Future price and price of contracts in to\", secondary_y=False)\n",
    "        #fig.update_trace(marker=dict(colorscale='viridis'))\n",
    "           \n",
    "        print(f'Added contracts to Plot')\n",
    "    except:\n",
    "        print('Failed to add dates_of_closed_contract and price_per_to_of_closed_contracts to figure')\n",
    "        \n",
    "   \n",
    "      \n",
    "\n",
    "    \n",
    "    \n",
    "    \n",
    "    #add next_harvest_date as daytime \n",
    "    commodities_df['next_harvest_date'] = [datetime.strptime(f'2022/{month}/01', \"%Y/%m/%d\") for month in commodities_df['harvest_month']]\n",
    "    commodities_df['next_harvest_date']\n",
    "    \n",
    "    \n",
    "    #Add expected harvest barplot\n",
    "    try:\n",
    "        print(commodities_df.loc[commodities_df.index==2, 'next_harvest_date'])\n",
    "        total_harvest_in_to = harvest_area*harvest_tph\n",
    "        print(harvest_area*harvest_tph)\n",
    "        \n",
    "        fig.add_trace(go.Bar(x=commodities_df.loc[commodities_df.index==2, 'next_harvest_date'],\\\n",
    "             y=[total_harvest_in_to], name='expected harvest', text=total_harvest_in_to), secondary_y=True, )\n",
    "        \n",
    "        fig.update_yaxes(title_text=\"contracted amount and expected harvest in to\", secondary_y=True)\n",
    "        \n",
    "        fig.add_hline(y=(harvest_area* harvest_tph*0.30), secondary_y=True,)\n",
    "        fig.add_hrect(y0=(harvest_area*harvest_tph*0.30), y1=harvest_area*harvest_tph, line_width=0, fillcolor=\"red\", opacity=0.2, secondary_y=True,)\n",
    "        print('added expected harvest plot')\n",
    "    except:\n",
    "        print(\"couldn't add expected harvest plot\")\n",
    "    \n",
    "    #Add contracted amount in to as barplot\n",
    "    try:\n",
    "        fig.add_trace(go.Bar( name='contracted amount', x=contracts_df[\"date_fullfillment\"],\n",
    "             y=contracts_df[\"price_per_to\"], text=contracts_df[\"price_per_to\"]), secondary_y=True)    \n",
    "        print('added contracted amount in to')\n",
    "    except:\n",
    "        print(\"Error: couldn't add contracted amount in to\")\n",
    "    \n",
    "    \n",
    "    #Add marker styling \n",
    "    fig.update_traces(marker=dict(size=10,\n",
    "                              line=dict(width=2,\n",
    "                                        color='DarkSlateGrey')),\n",
    "                  selector=dict(mode='markers'))\n",
    "    \n",
    "    #Add title\n",
    "    fig.update_layout(title_text=\"Future prices, contracted amount in to and GBP and expected harvest\")\n",
    "    \n",
    "    \n",
    "    #Add boxes to select time frame\n",
    "    fig.update_layout(\n",
    "    xaxis=dict(\n",
    "        rangeselector=dict(\n",
    "            buttons=list([\n",
    "                dict(count=1,\n",
    "                     label=\"1m\",\n",
    "                     step=\"month\",\n",
    "                     stepmode=\"todate\"),\n",
    "                dict(count=6,\n",
    "                     label=\"6m\",\n",
    "                     step=\"month\",\n",
    "                     stepmode=\"todate\"),\n",
    "                dict(count=1,\n",
    "                     label=\"YTD\",\n",
    "                     step=\"year\",\n",
    "                     stepmode=\"todate\"),\n",
    "                dict(count=1,\n",
    "                     label=\"1y\",\n",
    "                     step=\"year\",\n",
    "                     stepmode=\"backward\"),\n",
    "                dict(step=\"all\")\n",
    "            ])\n",
    "        ),\n",
    "        #Ad rangeslider to filter timeframe\n",
    "        rangeslider=dict(\n",
    "            visible=True\n",
    "        ),\n",
    "        type=\"date\"\n",
    "    )\n",
    ")\n",
    "    return fig\n"
   ]
  },
  {
   "cell_type": "code",
   "execution_count": 126,
   "id": "907f8cb5-81b5-4bdb-82e3-a06540c724e6",
   "metadata": {},
   "outputs": [
    {
     "name": "stdout",
     "output_type": "stream",
     "text": [
      "plotting future with fullfillment date:2022-05-20\n",
      "plotting future with fullfillment date:2022-05-23\n",
      "plotting future with fullfillment date:2022-07-07\n",
      "plotting future with fullfillment date:2022-11-23\n",
      "plotting future with fullfillment date:2023-01-23\n",
      "plotting future with fullfillment date:2023-03-23\n",
      "plotting future with fullfillment date:2023-05-23\n",
      "plotting future with fullfillment date:2023-07-07\n",
      "plotting future with fullfillment date:2023-11-23\n",
      "plotting future with fullfillment date:2024-01-23\n",
      "plotting future with fullfillment date:2024-03-22\n",
      "Succesfully ploted future price data\n",
      "Added contracts to Plot\n",
      "2   2022-08-01\n",
      "Name: next_harvest_date, dtype: datetime64[ns]\n",
      "800\n",
      "added expected harvest plot\n",
      "added contracted amount in to\n"
     ]
    }
   ],
   "source": [
    "fig, price_df, commodities_df = plot_futures_contracts_harvest(dates_ff, harvest_area, harvest_tph, price_df_json, contracts_df_json, commodities_df_json)"
   ]
  },
  {
   "cell_type": "code",
   "execution_count": 127,
   "id": "f702411d-f9e7-4c15-97a0-07501b7597ec",
   "metadata": {},
   "outputs": [
    {
     "data": {
      "application/vnd.plotly.v1+json": {
       "config": {
        "plotlyServerURL": "https://plot.ly"
       },
       "data": [
        {
         "marker": {
          "colorscale": [
           [
            0,
            "rgb(75, 41, 145)"
           ],
           [
            0.16666666666666666,
            "rgb(135, 44, 162)"
           ],
           [
            0.3333333333333333,
            "rgb(192, 54, 157)"
           ],
           [
            0.5,
            "rgb(234, 79, 136)"
           ],
           [
            0.6666666666666666,
            "rgb(250, 120, 118)"
           ],
           [
            0.8333333333333334,
            "rgb(246, 169, 122)"
           ],
           [
            1,
            "rgb(237, 217, 163)"
           ]
          ]
         },
         "mode": "lines+markers",
         "name": "fullfill until: 2022-05-20",
         "type": "scatter",
         "x": [
          "2021-12-31",
          "2022-01-01",
          "2022-01-02",
          "2022-01-03",
          "2022-01-04",
          "2022-01-06",
          "2022-01-07",
          "2022-01-09",
          "2022-01-10",
          "2022-01-11",
          "2022-01-12",
          "2022-01-13",
          "2022-01-14",
          "2022-01-15",
          "2022-01-16",
          "2022-01-17",
          "2022-01-18",
          "2022-01-19",
          "2022-01-20",
          "2022-01-21",
          "2022-01-22",
          "2022-01-23",
          "2022-01-24",
          "2022-01-26",
          "2022-01-27",
          "2022-01-28",
          "2022-01-29",
          "2022-01-30",
          "2022-02-01",
          "2022-02-02",
          "2022-02-03",
          "2022-02-04",
          "2022-02-05",
          "2022-02-06",
          "2022-02-07",
          "2022-02-08",
          "2022-02-09",
          "2022-02-10",
          "2022-02-11",
          "2022-02-12",
          "2022-02-13",
          "2022-02-14",
          "2022-02-15",
          "2022-02-16",
          "2022-02-17",
          "2022-02-18",
          "2022-02-19",
          "2022-02-20",
          "2022-02-21",
          "2022-02-22",
          "2022-02-23",
          "2022-02-24",
          "2022-02-25",
          "2022-02-26",
          "2022-02-27",
          "2022-02-28",
          "2022-03-01",
          "2022-03-02",
          "2022-03-03",
          "2022-03-04",
          "2022-03-05",
          "2022-03-06",
          "2022-03-07",
          "2022-03-08",
          "2022-03-09",
          "2022-03-10",
          "2022-03-11",
          "2022-03-12",
          "2022-03-13",
          "2022-03-14",
          "2022-03-15",
          "2022-03-16",
          "2022-03-17",
          "2022-03-18",
          "2022-03-19",
          "2022-03-20",
          "2022-03-21",
          "2022-03-22",
          "2022-03-23",
          "2022-03-24",
          "2022-03-26",
          "2022-03-27",
          "2022-03-28",
          "2022-03-29",
          "2022-03-30",
          "2022-03-31",
          "2022-04-01",
          "2022-04-02",
          "2022-04-03",
          "2022-04-04",
          "2022-04-05",
          "2022-04-06",
          "2022-04-07",
          "2022-04-09",
          "2022-04-10",
          "2022-04-11",
          "2022-04-12",
          "2022-04-13",
          "2022-04-14",
          "2022-04-15",
          "2022-04-16",
          "2022-04-17",
          "2022-04-18",
          "2022-04-19",
          "2022-04-20",
          "2022-04-22",
          "2022-04-23",
          "2022-04-24",
          "2022-04-25",
          "2022-04-26",
          "2022-04-27",
          "2022-04-28",
          "2022-04-29",
          "2022-04-30",
          "2022-05-01",
          "2022-05-02",
          "2022-05-03",
          "2022-05-04",
          "2022-05-05",
          "2022-05-06",
          "2022-05-07",
          "2022-05-08",
          "2022-05-09",
          "2022-05-10",
          "2022-05-11"
         ],
         "xaxis": "x",
         "y": [
          247.1232685043,
          243.8102451769,
          243.8857810314,
          243.9040258896,
          242.0689984614,
          243.8753691282,
          241.8323818258,
          241.3135697005,
          241.5076395693,
          242.7681399834,
          243.3244727847,
          236.74824998,
          231.6942972414,
          231.010030247,
          230.8530658586,
          230.9291362378,
          233.0497890886,
          236.1608193592,
          242.0778211138,
          241.7506798844,
          240.41957875,
          240.41957875,
          240.305392632,
          257.6670456703,
          249.6344349051,
          248.7145236191,
          249.5985975,
          249.5985975,
          236.216053515,
          238.2363260952,
          233.9860573799,
          227.9770022998,
          231.888762,
          231.888762,
          231.7793101725,
          232.7862280027,
          231.4252765315,
          230.4735224185,
          228.5677308757,
          237.457528,
          237.457528,
          236.9760883905,
          242.6095547894,
          233.7265835883,
          231.5703439727,
          233.5068200448,
          240.67309,
          240.67309,
          240.5852544117,
          242.2365083014,
          244.6308041605,
          254.2606961095,
          281.5227238657,
          258.36904,
          258.36904,
          260.3043236558,
          286.5903364495,
          315.0044866924,
          324.2921438422,
          351.8025580535,
          361.94861875,
          361.94861875,
          364.5197392095,
          388.7866805307,
          362.1625887924,
          364.2901586255,
          366.2677473533,
          341.82466,
          341.82466,
          341.0094983853,
          346.9999500275,
          353.6887111289,
          326.8346023181,
          330.8840369723,
          327.2299,
          327.2299,
          327.7544091182,
          341.6492746958,
          344.3962458395,
          350.4137269594,
          346.6538375,
          346.6538375,
          346.5952073899,
          335.0643631856,
          318.8525186325,
          325.2177402434,
          332.9678969666,
          331.268064,
          331.268064,
          331.2893060637,
          332.3199568552,
          334.448493994,
          333.633838611,
          344.341515,
          344.341515,
          343.9549806533,
          349.6966590357,
          368.8670537659,
          370.7520336375,
          370.3486627273,
          370.57152125,
          370.57152125,
          370.1920717939,
          371.4575992125,
          370.7878332201,
          375.4480009196,
          376.87386,
          376.87386,
          376.3160585255,
          381.346920824,
          389.2610929054,
          395.4268117824,
          395.8746564046,
          379.34,
          379.34,
          379.2785050465,
          383.4031751745,
          370.7313057729,
          368.1954045679,
          379.8484073378,
          384.90424,
          384.90424,
          385.118539758,
          376.4652008795,
          382.564392955
         ],
         "yaxis": "y"
        },
        {
         "marker": {
          "colorscale": [
           [
            0,
            "rgb(75, 41, 145)"
           ],
           [
            0.16666666666666666,
            "rgb(135, 44, 162)"
           ],
           [
            0.3333333333333333,
            "rgb(192, 54, 157)"
           ],
           [
            0.5,
            "rgb(234, 79, 136)"
           ],
           [
            0.6666666666666666,
            "rgb(250, 120, 118)"
           ],
           [
            0.8333333333333334,
            "rgb(246, 169, 122)"
           ],
           [
            1,
            "rgb(237, 217, 163)"
           ]
          ]
         },
         "mode": "lines+markers",
         "name": "fullfill until: 2022-05-23",
         "type": "scatter",
         "x": [
          "2022-05-19"
         ],
         "xaxis": "x",
         "y": [
          336.3
         ],
         "yaxis": "y"
        },
        {
         "marker": {
          "colorscale": [
           [
            0,
            "rgb(75, 41, 145)"
           ],
           [
            0.16666666666666666,
            "rgb(135, 44, 162)"
           ],
           [
            0.3333333333333333,
            "rgb(192, 54, 157)"
           ],
           [
            0.5,
            "rgb(234, 79, 136)"
           ],
           [
            0.6666666666666666,
            "rgb(250, 120, 118)"
           ],
           [
            0.8333333333333334,
            "rgb(246, 169, 122)"
           ],
           [
            1,
            "rgb(237, 217, 163)"
           ]
          ]
         },
         "mode": "lines+markers",
         "name": "fullfill until: 2022-07-07",
         "type": "scatter",
         "x": [
          "2022-05-19",
          "2022-05-22"
         ],
         "xaxis": "x",
         "y": [
          334.5,
          334.7
         ],
         "yaxis": "y"
        },
        {
         "marker": {
          "colorscale": [
           [
            0,
            "rgb(75, 41, 145)"
           ],
           [
            0.16666666666666666,
            "rgb(135, 44, 162)"
           ],
           [
            0.3333333333333333,
            "rgb(192, 54, 157)"
           ],
           [
            0.5,
            "rgb(234, 79, 136)"
           ],
           [
            0.6666666666666666,
            "rgb(250, 120, 118)"
           ],
           [
            0.8333333333333334,
            "rgb(246, 169, 122)"
           ],
           [
            1,
            "rgb(237, 217, 163)"
           ]
          ]
         },
         "mode": "lines+markers",
         "name": "fullfill until: 2022-11-23",
         "type": "scatter",
         "x": [
          "2022-05-19",
          "2022-05-22"
         ],
         "xaxis": "x",
         "y": [
          330.8,
          331
         ],
         "yaxis": "y"
        },
        {
         "marker": {
          "colorscale": [
           [
            0,
            "rgb(75, 41, 145)"
           ],
           [
            0.16666666666666666,
            "rgb(135, 44, 162)"
           ],
           [
            0.3333333333333333,
            "rgb(192, 54, 157)"
           ],
           [
            0.5,
            "rgb(234, 79, 136)"
           ],
           [
            0.6666666666666666,
            "rgb(250, 120, 118)"
           ],
           [
            0.8333333333333334,
            "rgb(246, 169, 122)"
           ],
           [
            1,
            "rgb(237, 217, 163)"
           ]
          ]
         },
         "mode": "lines+markers",
         "name": "fullfill until: 2023-01-23",
         "type": "scatter",
         "x": [
          "2022-05-19",
          "2022-05-22"
         ],
         "xaxis": "x",
         "y": [
          333.6,
          333.8
         ],
         "yaxis": "y"
        },
        {
         "marker": {
          "colorscale": [
           [
            0,
            "rgb(75, 41, 145)"
           ],
           [
            0.16666666666666666,
            "rgb(135, 44, 162)"
           ],
           [
            0.3333333333333333,
            "rgb(192, 54, 157)"
           ],
           [
            0.5,
            "rgb(234, 79, 136)"
           ],
           [
            0.6666666666666666,
            "rgb(250, 120, 118)"
           ],
           [
            0.8333333333333334,
            "rgb(246, 169, 122)"
           ],
           [
            1,
            "rgb(237, 217, 163)"
           ]
          ]
         },
         "mode": "lines+markers",
         "name": "fullfill until: 2023-03-23",
         "type": "scatter",
         "x": [
          "2022-05-19",
          "2022-05-22"
         ],
         "xaxis": "x",
         "y": [
          334.95,
          335.55
         ],
         "yaxis": "y"
        },
        {
         "marker": {
          "colorscale": [
           [
            0,
            "rgb(75, 41, 145)"
           ],
           [
            0.16666666666666666,
            "rgb(135, 44, 162)"
           ],
           [
            0.3333333333333333,
            "rgb(192, 54, 157)"
           ],
           [
            0.5,
            "rgb(234, 79, 136)"
           ],
           [
            0.6666666666666666,
            "rgb(250, 120, 118)"
           ],
           [
            0.8333333333333334,
            "rgb(246, 169, 122)"
           ],
           [
            1,
            "rgb(237, 217, 163)"
           ]
          ]
         },
         "mode": "lines+markers",
         "name": "fullfill until: 2023-05-23",
         "type": "scatter",
         "x": [
          "2022-05-19",
          "2022-05-22"
         ],
         "xaxis": "x",
         "y": [
          336.15,
          337.15
         ],
         "yaxis": "y"
        },
        {
         "marker": {
          "colorscale": [
           [
            0,
            "rgb(75, 41, 145)"
           ],
           [
            0.16666666666666666,
            "rgb(135, 44, 162)"
           ],
           [
            0.3333333333333333,
            "rgb(192, 54, 157)"
           ],
           [
            0.5,
            "rgb(234, 79, 136)"
           ],
           [
            0.6666666666666666,
            "rgb(250, 120, 118)"
           ],
           [
            0.8333333333333334,
            "rgb(246, 169, 122)"
           ],
           [
            1,
            "rgb(237, 217, 163)"
           ]
          ]
         },
         "mode": "lines+markers",
         "name": "fullfill until: 2023-07-07",
         "type": "scatter",
         "x": [
          "2022-05-19",
          "2022-05-22"
         ],
         "xaxis": "x",
         "y": [
          305.7,
          306.45
         ],
         "yaxis": "y"
        },
        {
         "marker": {
          "colorscale": [
           [
            0,
            "rgb(75, 41, 145)"
           ],
           [
            0.16666666666666666,
            "rgb(135, 44, 162)"
           ],
           [
            0.3333333333333333,
            "rgb(192, 54, 157)"
           ],
           [
            0.5,
            "rgb(234, 79, 136)"
           ],
           [
            0.6666666666666666,
            "rgb(250, 120, 118)"
           ],
           [
            0.8333333333333334,
            "rgb(246, 169, 122)"
           ],
           [
            1,
            "rgb(237, 217, 163)"
           ]
          ]
         },
         "mode": "lines+markers",
         "name": "fullfill until: 2023-11-23",
         "type": "scatter",
         "x": [
          "2022-05-19",
          "2022-05-22"
         ],
         "xaxis": "x",
         "y": [
          270.65,
          271.15
         ],
         "yaxis": "y"
        },
        {
         "marker": {
          "colorscale": [
           [
            0,
            "rgb(75, 41, 145)"
           ],
           [
            0.16666666666666666,
            "rgb(135, 44, 162)"
           ],
           [
            0.3333333333333333,
            "rgb(192, 54, 157)"
           ],
           [
            0.5,
            "rgb(234, 79, 136)"
           ],
           [
            0.6666666666666666,
            "rgb(250, 120, 118)"
           ],
           [
            0.8333333333333334,
            "rgb(246, 169, 122)"
           ],
           [
            1,
            "rgb(237, 217, 163)"
           ]
          ]
         },
         "mode": "lines+markers",
         "name": "fullfill until: 2024-01-23",
         "type": "scatter",
         "x": [
          "2022-05-19",
          "2022-05-22"
         ],
         "xaxis": "x",
         "y": [
          271.6,
          272.1
         ],
         "yaxis": "y"
        },
        {
         "marker": {
          "colorscale": [
           [
            0,
            "rgb(75, 41, 145)"
           ],
           [
            0.16666666666666666,
            "rgb(135, 44, 162)"
           ],
           [
            0.3333333333333333,
            "rgb(192, 54, 157)"
           ],
           [
            0.5,
            "rgb(234, 79, 136)"
           ],
           [
            0.6666666666666666,
            "rgb(250, 120, 118)"
           ],
           [
            0.8333333333333334,
            "rgb(246, 169, 122)"
           ],
           [
            1,
            "rgb(237, 217, 163)"
           ]
          ]
         },
         "mode": "lines+markers",
         "name": "fullfill until: 2024-03-22",
         "type": "scatter",
         "x": [
          "2022-05-19",
          "2022-05-22"
         ],
         "xaxis": "x",
         "y": [
          273.1,
          273.6
         ],
         "yaxis": "y"
        },
        {
         "marker": {
          "line": {
           "color": "DarkSlateGrey",
           "width": 2
          },
          "size": 10
         },
         "mode": "markers",
         "name": "date/price closed",
         "type": "scatter",
         "x": [
          "2022-05-20"
         ],
         "xaxis": "x",
         "y": [
          300
         ],
         "yaxis": "y"
        },
        {
         "name": "expected harvest",
         "text": "800",
         "type": "bar",
         "x": [
          "2022-08-01T00:00:00"
         ],
         "xaxis": "x",
         "y": [
          800
         ],
         "yaxis": "y2"
        },
        {
         "name": "contracted amount",
         "text": [
          300
         ],
         "type": "bar",
         "x": [
          "2022-11-01"
         ],
         "xaxis": "x",
         "y": [
          300
         ],
         "yaxis": "y2"
        }
       ],
       "layout": {
        "autosize": true,
        "shapes": [
         {
          "type": "line",
          "x0": 0,
          "x1": 1,
          "xref": "x domain",
          "y0": 240,
          "y1": 240,
          "yref": "y2"
         },
         {
          "fillcolor": "red",
          "line": {
           "width": 0
          },
          "opacity": 0.2,
          "type": "rect",
          "x0": 0,
          "x1": 1,
          "xref": "x domain",
          "y0": 240,
          "y1": 800,
          "yref": "y2"
         }
        ],
        "template": {
         "data": {
          "bar": [
           {
            "error_x": {
             "color": "#2a3f5f"
            },
            "error_y": {
             "color": "#2a3f5f"
            },
            "marker": {
             "line": {
              "color": "#E5ECF6",
              "width": 0.5
             },
             "pattern": {
              "fillmode": "overlay",
              "size": 10,
              "solidity": 0.2
             }
            },
            "type": "bar"
           }
          ],
          "barpolar": [
           {
            "marker": {
             "line": {
              "color": "#E5ECF6",
              "width": 0.5
             },
             "pattern": {
              "fillmode": "overlay",
              "size": 10,
              "solidity": 0.2
             }
            },
            "type": "barpolar"
           }
          ],
          "carpet": [
           {
            "aaxis": {
             "endlinecolor": "#2a3f5f",
             "gridcolor": "white",
             "linecolor": "white",
             "minorgridcolor": "white",
             "startlinecolor": "#2a3f5f"
            },
            "baxis": {
             "endlinecolor": "#2a3f5f",
             "gridcolor": "white",
             "linecolor": "white",
             "minorgridcolor": "white",
             "startlinecolor": "#2a3f5f"
            },
            "type": "carpet"
           }
          ],
          "choropleth": [
           {
            "colorbar": {
             "outlinewidth": 0,
             "ticks": ""
            },
            "type": "choropleth"
           }
          ],
          "contour": [
           {
            "colorbar": {
             "outlinewidth": 0,
             "ticks": ""
            },
            "colorscale": [
             [
              0,
              "#0d0887"
             ],
             [
              0.1111111111111111,
              "#46039f"
             ],
             [
              0.2222222222222222,
              "#7201a8"
             ],
             [
              0.3333333333333333,
              "#9c179e"
             ],
             [
              0.4444444444444444,
              "#bd3786"
             ],
             [
              0.5555555555555556,
              "#d8576b"
             ],
             [
              0.6666666666666666,
              "#ed7953"
             ],
             [
              0.7777777777777778,
              "#fb9f3a"
             ],
             [
              0.8888888888888888,
              "#fdca26"
             ],
             [
              1,
              "#f0f921"
             ]
            ],
            "type": "contour"
           }
          ],
          "contourcarpet": [
           {
            "colorbar": {
             "outlinewidth": 0,
             "ticks": ""
            },
            "type": "contourcarpet"
           }
          ],
          "heatmap": [
           {
            "colorbar": {
             "outlinewidth": 0,
             "ticks": ""
            },
            "colorscale": [
             [
              0,
              "#0d0887"
             ],
             [
              0.1111111111111111,
              "#46039f"
             ],
             [
              0.2222222222222222,
              "#7201a8"
             ],
             [
              0.3333333333333333,
              "#9c179e"
             ],
             [
              0.4444444444444444,
              "#bd3786"
             ],
             [
              0.5555555555555556,
              "#d8576b"
             ],
             [
              0.6666666666666666,
              "#ed7953"
             ],
             [
              0.7777777777777778,
              "#fb9f3a"
             ],
             [
              0.8888888888888888,
              "#fdca26"
             ],
             [
              1,
              "#f0f921"
             ]
            ],
            "type": "heatmap"
           }
          ],
          "heatmapgl": [
           {
            "colorbar": {
             "outlinewidth": 0,
             "ticks": ""
            },
            "colorscale": [
             [
              0,
              "#0d0887"
             ],
             [
              0.1111111111111111,
              "#46039f"
             ],
             [
              0.2222222222222222,
              "#7201a8"
             ],
             [
              0.3333333333333333,
              "#9c179e"
             ],
             [
              0.4444444444444444,
              "#bd3786"
             ],
             [
              0.5555555555555556,
              "#d8576b"
             ],
             [
              0.6666666666666666,
              "#ed7953"
             ],
             [
              0.7777777777777778,
              "#fb9f3a"
             ],
             [
              0.8888888888888888,
              "#fdca26"
             ],
             [
              1,
              "#f0f921"
             ]
            ],
            "type": "heatmapgl"
           }
          ],
          "histogram": [
           {
            "marker": {
             "pattern": {
              "fillmode": "overlay",
              "size": 10,
              "solidity": 0.2
             }
            },
            "type": "histogram"
           }
          ],
          "histogram2d": [
           {
            "colorbar": {
             "outlinewidth": 0,
             "ticks": ""
            },
            "colorscale": [
             [
              0,
              "#0d0887"
             ],
             [
              0.1111111111111111,
              "#46039f"
             ],
             [
              0.2222222222222222,
              "#7201a8"
             ],
             [
              0.3333333333333333,
              "#9c179e"
             ],
             [
              0.4444444444444444,
              "#bd3786"
             ],
             [
              0.5555555555555556,
              "#d8576b"
             ],
             [
              0.6666666666666666,
              "#ed7953"
             ],
             [
              0.7777777777777778,
              "#fb9f3a"
             ],
             [
              0.8888888888888888,
              "#fdca26"
             ],
             [
              1,
              "#f0f921"
             ]
            ],
            "type": "histogram2d"
           }
          ],
          "histogram2dcontour": [
           {
            "colorbar": {
             "outlinewidth": 0,
             "ticks": ""
            },
            "colorscale": [
             [
              0,
              "#0d0887"
             ],
             [
              0.1111111111111111,
              "#46039f"
             ],
             [
              0.2222222222222222,
              "#7201a8"
             ],
             [
              0.3333333333333333,
              "#9c179e"
             ],
             [
              0.4444444444444444,
              "#bd3786"
             ],
             [
              0.5555555555555556,
              "#d8576b"
             ],
             [
              0.6666666666666666,
              "#ed7953"
             ],
             [
              0.7777777777777778,
              "#fb9f3a"
             ],
             [
              0.8888888888888888,
              "#fdca26"
             ],
             [
              1,
              "#f0f921"
             ]
            ],
            "type": "histogram2dcontour"
           }
          ],
          "mesh3d": [
           {
            "colorbar": {
             "outlinewidth": 0,
             "ticks": ""
            },
            "type": "mesh3d"
           }
          ],
          "parcoords": [
           {
            "line": {
             "colorbar": {
              "outlinewidth": 0,
              "ticks": ""
             }
            },
            "type": "parcoords"
           }
          ],
          "pie": [
           {
            "automargin": true,
            "type": "pie"
           }
          ],
          "scatter": [
           {
            "marker": {
             "colorbar": {
              "outlinewidth": 0,
              "ticks": ""
             }
            },
            "type": "scatter"
           }
          ],
          "scatter3d": [
           {
            "line": {
             "colorbar": {
              "outlinewidth": 0,
              "ticks": ""
             }
            },
            "marker": {
             "colorbar": {
              "outlinewidth": 0,
              "ticks": ""
             }
            },
            "type": "scatter3d"
           }
          ],
          "scattercarpet": [
           {
            "marker": {
             "colorbar": {
              "outlinewidth": 0,
              "ticks": ""
             }
            },
            "type": "scattercarpet"
           }
          ],
          "scattergeo": [
           {
            "marker": {
             "colorbar": {
              "outlinewidth": 0,
              "ticks": ""
             }
            },
            "type": "scattergeo"
           }
          ],
          "scattergl": [
           {
            "marker": {
             "colorbar": {
              "outlinewidth": 0,
              "ticks": ""
             }
            },
            "type": "scattergl"
           }
          ],
          "scattermapbox": [
           {
            "marker": {
             "colorbar": {
              "outlinewidth": 0,
              "ticks": ""
             }
            },
            "type": "scattermapbox"
           }
          ],
          "scatterpolar": [
           {
            "marker": {
             "colorbar": {
              "outlinewidth": 0,
              "ticks": ""
             }
            },
            "type": "scatterpolar"
           }
          ],
          "scatterpolargl": [
           {
            "marker": {
             "colorbar": {
              "outlinewidth": 0,
              "ticks": ""
             }
            },
            "type": "scatterpolargl"
           }
          ],
          "scatterternary": [
           {
            "marker": {
             "colorbar": {
              "outlinewidth": 0,
              "ticks": ""
             }
            },
            "type": "scatterternary"
           }
          ],
          "surface": [
           {
            "colorbar": {
             "outlinewidth": 0,
             "ticks": ""
            },
            "colorscale": [
             [
              0,
              "#0d0887"
             ],
             [
              0.1111111111111111,
              "#46039f"
             ],
             [
              0.2222222222222222,
              "#7201a8"
             ],
             [
              0.3333333333333333,
              "#9c179e"
             ],
             [
              0.4444444444444444,
              "#bd3786"
             ],
             [
              0.5555555555555556,
              "#d8576b"
             ],
             [
              0.6666666666666666,
              "#ed7953"
             ],
             [
              0.7777777777777778,
              "#fb9f3a"
             ],
             [
              0.8888888888888888,
              "#fdca26"
             ],
             [
              1,
              "#f0f921"
             ]
            ],
            "type": "surface"
           }
          ],
          "table": [
           {
            "cells": {
             "fill": {
              "color": "#EBF0F8"
             },
             "line": {
              "color": "white"
             }
            },
            "header": {
             "fill": {
              "color": "#C8D4E3"
             },
             "line": {
              "color": "white"
             }
            },
            "type": "table"
           }
          ]
         },
         "layout": {
          "annotationdefaults": {
           "arrowcolor": "#2a3f5f",
           "arrowhead": 0,
           "arrowwidth": 1
          },
          "autotypenumbers": "strict",
          "coloraxis": {
           "colorbar": {
            "outlinewidth": 0,
            "ticks": ""
           }
          },
          "colorscale": {
           "diverging": [
            [
             0,
             "#8e0152"
            ],
            [
             0.1,
             "#c51b7d"
            ],
            [
             0.2,
             "#de77ae"
            ],
            [
             0.3,
             "#f1b6da"
            ],
            [
             0.4,
             "#fde0ef"
            ],
            [
             0.5,
             "#f7f7f7"
            ],
            [
             0.6,
             "#e6f5d0"
            ],
            [
             0.7,
             "#b8e186"
            ],
            [
             0.8,
             "#7fbc41"
            ],
            [
             0.9,
             "#4d9221"
            ],
            [
             1,
             "#276419"
            ]
           ],
           "sequential": [
            [
             0,
             "#0d0887"
            ],
            [
             0.1111111111111111,
             "#46039f"
            ],
            [
             0.2222222222222222,
             "#7201a8"
            ],
            [
             0.3333333333333333,
             "#9c179e"
            ],
            [
             0.4444444444444444,
             "#bd3786"
            ],
            [
             0.5555555555555556,
             "#d8576b"
            ],
            [
             0.6666666666666666,
             "#ed7953"
            ],
            [
             0.7777777777777778,
             "#fb9f3a"
            ],
            [
             0.8888888888888888,
             "#fdca26"
            ],
            [
             1,
             "#f0f921"
            ]
           ],
           "sequentialminus": [
            [
             0,
             "#0d0887"
            ],
            [
             0.1111111111111111,
             "#46039f"
            ],
            [
             0.2222222222222222,
             "#7201a8"
            ],
            [
             0.3333333333333333,
             "#9c179e"
            ],
            [
             0.4444444444444444,
             "#bd3786"
            ],
            [
             0.5555555555555556,
             "#d8576b"
            ],
            [
             0.6666666666666666,
             "#ed7953"
            ],
            [
             0.7777777777777778,
             "#fb9f3a"
            ],
            [
             0.8888888888888888,
             "#fdca26"
            ],
            [
             1,
             "#f0f921"
            ]
           ]
          },
          "colorway": [
           "#636efa",
           "#EF553B",
           "#00cc96",
           "#ab63fa",
           "#FFA15A",
           "#19d3f3",
           "#FF6692",
           "#B6E880",
           "#FF97FF",
           "#FECB52"
          ],
          "font": {
           "color": "#2a3f5f"
          },
          "geo": {
           "bgcolor": "white",
           "lakecolor": "white",
           "landcolor": "#E5ECF6",
           "showlakes": true,
           "showland": true,
           "subunitcolor": "white"
          },
          "hoverlabel": {
           "align": "left"
          },
          "hovermode": "closest",
          "mapbox": {
           "style": "light"
          },
          "paper_bgcolor": "white",
          "plot_bgcolor": "#E5ECF6",
          "polar": {
           "angularaxis": {
            "gridcolor": "white",
            "linecolor": "white",
            "ticks": ""
           },
           "bgcolor": "#E5ECF6",
           "radialaxis": {
            "gridcolor": "white",
            "linecolor": "white",
            "ticks": ""
           }
          },
          "scene": {
           "xaxis": {
            "backgroundcolor": "#E5ECF6",
            "gridcolor": "white",
            "gridwidth": 2,
            "linecolor": "white",
            "showbackground": true,
            "ticks": "",
            "zerolinecolor": "white"
           },
           "yaxis": {
            "backgroundcolor": "#E5ECF6",
            "gridcolor": "white",
            "gridwidth": 2,
            "linecolor": "white",
            "showbackground": true,
            "ticks": "",
            "zerolinecolor": "white"
           },
           "zaxis": {
            "backgroundcolor": "#E5ECF6",
            "gridcolor": "white",
            "gridwidth": 2,
            "linecolor": "white",
            "showbackground": true,
            "ticks": "",
            "zerolinecolor": "white"
           }
          },
          "shapedefaults": {
           "line": {
            "color": "#2a3f5f"
           }
          },
          "ternary": {
           "aaxis": {
            "gridcolor": "white",
            "linecolor": "white",
            "ticks": ""
           },
           "baxis": {
            "gridcolor": "white",
            "linecolor": "white",
            "ticks": ""
           },
           "bgcolor": "#E5ECF6",
           "caxis": {
            "gridcolor": "white",
            "linecolor": "white",
            "ticks": ""
           }
          },
          "title": {
           "x": 0.05
          },
          "xaxis": {
           "automargin": true,
           "gridcolor": "white",
           "linecolor": "white",
           "ticks": "",
           "title": {
            "standoff": 15
           },
           "zerolinecolor": "white",
           "zerolinewidth": 2
          },
          "yaxis": {
           "automargin": true,
           "gridcolor": "white",
           "linecolor": "white",
           "ticks": "",
           "title": {
            "standoff": 15
           },
           "zerolinecolor": "white",
           "zerolinewidth": 2
          }
         }
        },
        "title": {
         "text": "Future prices, contracted amount in to and GBP and expected harvest"
        },
        "xaxis": {
         "anchor": "y",
         "autorange": true,
         "domain": [
          0,
          0.94
         ],
         "range": [
          "2021-12-10 23:05:12.2896",
          "2022-12-17"
         ],
         "rangeselector": {
          "buttons": [
           {
            "count": 1,
            "label": "1m",
            "step": "month",
            "stepmode": "todate"
           },
           {
            "count": 6,
            "label": "6m",
            "step": "month",
            "stepmode": "todate"
           },
           {
            "count": 1,
            "label": "YTD",
            "step": "year",
            "stepmode": "todate"
           },
           {
            "count": 1,
            "label": "1y",
            "step": "year",
            "stepmode": "backward"
           },
           {
            "step": "all"
           }
          ]
         },
         "rangeslider": {
          "autorange": true,
          "range": [
           "2021-12-10 23:05:12.2896",
           "2022-12-17"
          ],
          "visible": true,
          "yaxis": {
           "_template": null,
           "rangemode": "match"
          },
          "yaxis2": {
           "_template": null,
           "rangemode": "match"
          }
         },
         "type": "date"
        },
        "yaxis": {
         "anchor": "x",
         "autorange": true,
         "domain": [
          0,
          1
         ],
         "range": [
          211.8109036396604,
          412.0407550647396
         ],
         "title": {
          "text": "Future price and price of contracts in to"
         },
         "type": "linear"
        },
        "yaxis2": {
         "anchor": "x",
         "autorange": true,
         "overlaying": "y",
         "range": [
          0,
          842.1052631578948
         ],
         "side": "right",
         "title": {
          "text": "contracted amount and expected harvest in to"
         },
         "type": "linear"
        }
       }
      },
      "image/png": "[encoded data removed]",
      "text/html": [
       "<div>                            <div id=\"42bcc242-6ad9-4285-a684-4650917276ab\" class=\"plotly-graph-div\" style=\"height:525px; width:100%;\"></div>            <script type=\"text/javascript\">                require([\"plotly\"], function(Plotly) {                    window.PLOTLYENV=window.PLOTLYENV || {};                                    if (document.getElementById(\"42bcc242-6ad9-4285-a684-4650917276ab\")) {                    Plotly.newPlot(                        \"42bcc242-6ad9-4285-a684-4650917276ab\",                        [{\"mode\":\"lines+markers\",\"name\":\"fullfill until: 2022-05-20\",\"x\":[\"2021-12-31\",\"2022-01-01\",\"2022-01-02\",\"2022-01-03\",\"2022-01-04\",\"2022-01-06\",\"2022-01-07\",\"2022-01-09\",\"2022-01-10\",\"2022-01-11\",\"2022-01-12\",\"2022-01-13\",\"2022-01-14\",\"2022-01-15\",\"2022-01-16\",\"2022-01-17\",\"2022-01-18\",\"2022-01-19\",\"2022-01-20\",\"2022-01-21\",\"2022-01-22\",\"2022-01-23\",\"2022-01-24\",\"2022-01-26\",\"2022-01-27\",\"2022-01-28\",\"2022-01-29\",\"2022-01-30\",\"2022-02-01\",\"2022-02-02\",\"2022-02-03\",\"2022-02-04\",\"2022-02-05\",\"2022-02-06\",\"2022-02-07\",\"2022-02-08\",\"2022-02-09\",\"2022-02-10\",\"2022-02-11\",\"2022-02-12\",\"2022-02-13\",\"2022-02-14\",\"2022-02-15\",\"2022-02-16\",\"2022-02-17\",\"2022-02-18\",\"2022-02-19\",\"2022-02-20\",\"2022-02-21\",\"2022-02-22\",\"2022-02-23\",\"2022-02-24\",\"2022-02-25\",\"2022-02-26\",\"2022-02-27\",\"2022-02-28\",\"2022-03-01\",\"2022-03-02\",\"2022-03-03\",\"2022-03-04\",\"2022-03-05\",\"2022-03-06\",\"2022-03-07\",\"2022-03-08\",\"2022-03-09\",\"2022-03-10\",\"2022-03-11\",\"2022-03-12\",\"2022-03-13\",\"2022-03-14\",\"2022-03-15\",\"2022-03-16\",\"2022-03-17\",\"2022-03-18\",\"2022-03-19\",\"2022-03-20\",\"2022-03-21\",\"2022-03-22\",\"2022-03-23\",\"2022-03-24\",\"2022-03-26\",\"2022-03-27\",\"2022-03-28\",\"2022-03-29\",\"2022-03-30\",\"2022-03-31\",\"2022-04-01\",\"2022-04-02\",\"2022-04-03\",\"2022-04-04\",\"2022-04-05\",\"2022-04-06\",\"2022-04-07\",\"2022-04-09\",\"2022-04-10\",\"2022-04-11\",\"2022-04-12\",\"2022-04-13\",\"2022-04-14\",\"2022-04-15\",\"2022-04-16\",\"2022-04-17\",\"2022-04-18\",\"2022-04-19\",\"2022-04-20\",\"2022-04-22\",\"2022-04-23\",\"2022-04-24\",\"2022-04-25\",\"2022-04-26\",\"2022-04-27\",\"2022-04-28\",\"2022-04-29\",\"2022-04-30\",\"2022-05-01\",\"2022-05-02\",\"2022-05-03\",\"2022-05-04\",\"2022-05-05\",\"2022-05-06\",\"2022-05-07\",\"2022-05-08\",\"2022-05-09\",\"2022-05-10\",\"2022-05-11\"],\"y\":[247.1232685043,243.8102451769,243.8857810314,243.9040258896,242.0689984614,243.8753691282,241.8323818258,241.3135697005,241.5076395693,242.7681399834,243.3244727847,236.74824998,231.6942972414,231.010030247,230.8530658586,230.9291362378,233.0497890886,236.1608193592,242.0778211138,241.7506798844,240.41957875,240.41957875,240.305392632,257.6670456703,249.6344349051,248.7145236191,249.5985975,249.5985975,236.216053515,238.2363260952,233.9860573799,227.9770022998,231.888762,231.888762,231.7793101725,232.7862280027,231.4252765315,230.4735224185,228.5677308757,237.457528,237.457528,236.9760883905,242.6095547894,233.7265835883,231.5703439727,233.5068200448,240.67309,240.67309,240.5852544117,242.2365083014,244.6308041605,254.2606961095,281.5227238657,258.36904,258.36904,260.3043236558,286.5903364495,315.0044866924,324.2921438422,351.8025580535,361.94861875,361.94861875,364.5197392095,388.7866805307,362.1625887924,364.2901586255,366.2677473533,341.82466,341.82466,341.0094983853,346.9999500275,353.6887111289,326.8346023181,330.8840369723,327.2299,327.2299,327.7544091182,341.6492746958,344.3962458395,350.4137269594,346.6538375,346.6538375,346.5952073899,335.0643631856,318.8525186325,325.2177402434,332.9678969666,331.268064,331.268064,331.2893060637,332.3199568552,334.448493994,333.633838611,344.341515,344.341515,343.9549806533,349.6966590357,368.8670537659,370.7520336375,370.3486627273,370.57152125,370.57152125,370.1920717939,371.4575992125,370.7878332201,375.4480009196,376.87386,376.87386,376.3160585255,381.346920824,389.2610929054,395.4268117824,395.8746564046,379.34,379.34,379.2785050465,383.4031751745,370.7313057729,368.1954045679,379.8484073378,384.90424,384.90424,385.118539758,376.4652008795,382.564392955],\"type\":\"scatter\",\"xaxis\":\"x\",\"yaxis\":\"y\",\"marker\":{\"colorscale\":[[0.0,\"rgb(75, 41, 145)\"],[0.16666666666666666,\"rgb(135, 44, 162)\"],[0.3333333333333333,\"rgb(192, 54, 157)\"],[0.5,\"rgb(234, 79, 136)\"],[0.6666666666666666,\"rgb(250, 120, 118)\"],[0.8333333333333334,\"rgb(246, 169, 122)\"],[1.0,\"rgb(237, 217, 163)\"]]}},{\"mode\":\"lines+markers\",\"name\":\"fullfill until: 2022-05-23\",\"x\":[\"2022-05-19\"],\"y\":[336.3],\"type\":\"scatter\",\"xaxis\":\"x\",\"yaxis\":\"y\",\"marker\":{\"colorscale\":[[0.0,\"rgb(75, 41, 145)\"],[0.16666666666666666,\"rgb(135, 44, 162)\"],[0.3333333333333333,\"rgb(192, 54, 157)\"],[0.5,\"rgb(234, 79, 136)\"],[0.6666666666666666,\"rgb(250, 120, 118)\"],[0.8333333333333334,\"rgb(246, 169, 122)\"],[1.0,\"rgb(237, 217, 163)\"]]}},{\"mode\":\"lines+markers\",\"name\":\"fullfill until: 2022-07-07\",\"x\":[\"2022-05-19\",\"2022-05-22\"],\"y\":[334.5,334.7],\"type\":\"scatter\",\"xaxis\":\"x\",\"yaxis\":\"y\",\"marker\":{\"colorscale\":[[0.0,\"rgb(75, 41, 145)\"],[0.16666666666666666,\"rgb(135, 44, 162)\"],[0.3333333333333333,\"rgb(192, 54, 157)\"],[0.5,\"rgb(234, 79, 136)\"],[0.6666666666666666,\"rgb(250, 120, 118)\"],[0.8333333333333334,\"rgb(246, 169, 122)\"],[1.0,\"rgb(237, 217, 163)\"]]}},{\"mode\":\"lines+markers\",\"name\":\"fullfill until: 2022-11-23\",\"x\":[\"2022-05-19\",\"2022-05-22\"],\"y\":[330.8,331.0],\"type\":\"scatter\",\"xaxis\":\"x\",\"yaxis\":\"y\",\"marker\":{\"colorscale\":[[0.0,\"rgb(75, 41, 145)\"],[0.16666666666666666,\"rgb(135, 44, 162)\"],[0.3333333333333333,\"rgb(192, 54, 157)\"],[0.5,\"rgb(234, 79, 136)\"],[0.6666666666666666,\"rgb(250, 120, 118)\"],[0.8333333333333334,\"rgb(246, 169, 122)\"],[1.0,\"rgb(237, 217, 163)\"]]}},{\"mode\":\"lines+markers\",\"name\":\"fullfill until: 2023-01-23\",\"x\":[\"2022-05-19\",\"2022-05-22\"],\"y\":[333.6,333.8],\"type\":\"scatter\",\"xaxis\":\"x\",\"yaxis\":\"y\",\"marker\":{\"colorscale\":[[0.0,\"rgb(75, 41, 145)\"],[0.16666666666666666,\"rgb(135, 44, 162)\"],[0.3333333333333333,\"rgb(192, 54, 157)\"],[0.5,\"rgb(234, 79, 136)\"],[0.6666666666666666,\"rgb(250, 120, 118)\"],[0.8333333333333334,\"rgb(246, 169, 122)\"],[1.0,\"rgb(237, 217, 163)\"]]}},{\"mode\":\"lines+markers\",\"name\":\"fullfill until: 2023-03-23\",\"x\":[\"2022-05-19\",\"2022-05-22\"],\"y\":[334.95,335.55],\"type\":\"scatter\",\"xaxis\":\"x\",\"yaxis\":\"y\",\"marker\":{\"colorscale\":[[0.0,\"rgb(75, 41, 145)\"],[0.16666666666666666,\"rgb(135, 44, 162)\"],[0.3333333333333333,\"rgb(192, 54, 157)\"],[0.5,\"rgb(234, 79, 136)\"],[0.6666666666666666,\"rgb(250, 120, 118)\"],[0.8333333333333334,\"rgb(246, 169, 122)\"],[1.0,\"rgb(237, 217, 163)\"]]}},{\"mode\":\"lines+markers\",\"name\":\"fullfill until: 2023-05-23\",\"x\":[\"2022-05-19\",\"2022-05-22\"],\"y\":[336.15,337.15],\"type\":\"scatter\",\"xaxis\":\"x\",\"yaxis\":\"y\",\"marker\":{\"colorscale\":[[0.0,\"rgb(75, 41, 145)\"],[0.16666666666666666,\"rgb(135, 44, 162)\"],[0.3333333333333333,\"rgb(192, 54, 157)\"],[0.5,\"rgb(234, 79, 136)\"],[0.6666666666666666,\"rgb(250, 120, 118)\"],[0.8333333333333334,\"rgb(246, 169, 122)\"],[1.0,\"rgb(237, 217, 163)\"]]}},{\"mode\":\"lines+markers\",\"name\":\"fullfill until: 2023-07-07\",\"x\":[\"2022-05-19\",\"2022-05-22\"],\"y\":[305.7,306.45],\"type\":\"scatter\",\"xaxis\":\"x\",\"yaxis\":\"y\",\"marker\":{\"colorscale\":[[0.0,\"rgb(75, 41, 145)\"],[0.16666666666666666,\"rgb(135, 44, 162)\"],[0.3333333333333333,\"rgb(192, 54, 157)\"],[0.5,\"rgb(234, 79, 136)\"],[0.6666666666666666,\"rgb(250, 120, 118)\"],[0.8333333333333334,\"rgb(246, 169, 122)\"],[1.0,\"rgb(237, 217, 163)\"]]}},{\"mode\":\"lines+markers\",\"name\":\"fullfill until: 2023-11-23\",\"x\":[\"2022-05-19\",\"2022-05-22\"],\"y\":[270.65,271.15],\"type\":\"scatter\",\"xaxis\":\"x\",\"yaxis\":\"y\",\"marker\":{\"colorscale\":[[0.0,\"rgb(75, 41, 145)\"],[0.16666666666666666,\"rgb(135, 44, 162)\"],[0.3333333333333333,\"rgb(192, 54, 157)\"],[0.5,\"rgb(234, 79, 136)\"],[0.6666666666666666,\"rgb(250, 120, 118)\"],[0.8333333333333334,\"rgb(246, 169, 122)\"],[1.0,\"rgb(237, 217, 163)\"]]}},{\"mode\":\"lines+markers\",\"name\":\"fullfill until: 2024-01-23\",\"x\":[\"2022-05-19\",\"2022-05-22\"],\"y\":[271.6,272.1],\"type\":\"scatter\",\"xaxis\":\"x\",\"yaxis\":\"y\",\"marker\":{\"colorscale\":[[0.0,\"rgb(75, 41, 145)\"],[0.16666666666666666,\"rgb(135, 44, 162)\"],[0.3333333333333333,\"rgb(192, 54, 157)\"],[0.5,\"rgb(234, 79, 136)\"],[0.6666666666666666,\"rgb(250, 120, 118)\"],[0.8333333333333334,\"rgb(246, 169, 122)\"],[1.0,\"rgb(237, 217, 163)\"]]}},{\"mode\":\"lines+markers\",\"name\":\"fullfill until: 2024-03-22\",\"x\":[\"2022-05-19\",\"2022-05-22\"],\"y\":[273.1,273.6],\"type\":\"scatter\",\"xaxis\":\"x\",\"yaxis\":\"y\",\"marker\":{\"colorscale\":[[0.0,\"rgb(75, 41, 145)\"],[0.16666666666666666,\"rgb(135, 44, 162)\"],[0.3333333333333333,\"rgb(192, 54, 157)\"],[0.5,\"rgb(234, 79, 136)\"],[0.6666666666666666,\"rgb(250, 120, 118)\"],[0.8333333333333334,\"rgb(246, 169, 122)\"],[1.0,\"rgb(237, 217, 163)\"]]}},{\"mode\":\"markers\",\"name\":\"date/price closed\",\"x\":[\"2022-05-20\"],\"y\":[300],\"type\":\"scatter\",\"xaxis\":\"x\",\"yaxis\":\"y\",\"marker\":{\"line\":{\"color\":\"DarkSlateGrey\",\"width\":2},\"size\":10}},{\"name\":\"expected harvest\",\"text\":\"800\",\"x\":[\"2022-08-01T00:00:00\"],\"y\":[800],\"type\":\"bar\",\"xaxis\":\"x\",\"yaxis\":\"y2\"},{\"name\":\"contracted amount\",\"text\":[300.0],\"x\":[\"2022-11-01\"],\"y\":[300],\"type\":\"bar\",\"xaxis\":\"x\",\"yaxis\":\"y2\"}],                        {\"template\":{\"data\":{\"bar\":[{\"error_x\":{\"color\":\"#2a3f5f\"},\"error_y\":{\"color\":\"#2a3f5f\"},\"marker\":{\"line\":{\"color\":\"#E5ECF6\",\"width\":0.5},\"pattern\":{\"fillmode\":\"overlay\",\"size\":10,\"solidity\":0.2}},\"type\":\"bar\"}],\"barpolar\":[{\"marker\":{\"line\":{\"color\":\"#E5ECF6\",\"width\":0.5},\"pattern\":{\"fillmode\":\"overlay\",\"size\":10,\"solidity\":0.2}},\"type\":\"barpolar\"}],\"carpet\":[{\"aaxis\":{\"endlinecolor\":\"#2a3f5f\",\"gridcolor\":\"white\",\"linecolor\":\"white\",\"minorgridcolor\":\"white\",\"startlinecolor\":\"#2a3f5f\"},\"baxis\":{\"endlinecolor\":\"#2a3f5f\",\"gridcolor\":\"white\",\"linecolor\":\"white\",\"minorgridcolor\":\"white\",\"startlinecolor\":\"#2a3f5f\"},\"type\":\"carpet\"}],\"choropleth\":[{\"colorbar\":{\"outlinewidth\":0,\"ticks\":\"\"},\"type\":\"choropleth\"}],\"contour\":[{\"colorbar\":{\"outlinewidth\":0,\"ticks\":\"\"},\"colorscale\":[[0.0,\"#0d0887\"],[0.1111111111111111,\"#46039f\"],[0.2222222222222222,\"#7201a8\"],[0.3333333333333333,\"#9c179e\"],[0.4444444444444444,\"#bd3786\"],[0.5555555555555556,\"#d8576b\"],[0.6666666666666666,\"#ed7953\"],[0.7777777777777778,\"#fb9f3a\"],[0.8888888888888888,\"#fdca26\"],[1.0,\"#f0f921\"]],\"type\":\"contour\"}],\"contourcarpet\":[{\"colorbar\":{\"outlinewidth\":0,\"ticks\":\"\"},\"type\":\"contourcarpet\"}],\"heatmap\":[{\"colorbar\":{\"outlinewidth\":0,\"ticks\":\"\"},\"colorscale\":[[0.0,\"#0d0887\"],[0.1111111111111111,\"#46039f\"],[0.2222222222222222,\"#7201a8\"],[0.3333333333333333,\"#9c179e\"],[0.4444444444444444,\"#bd3786\"],[0.5555555555555556,\"#d8576b\"],[0.6666666666666666,\"#ed7953\"],[0.7777777777777778,\"#fb9f3a\"],[0.8888888888888888,\"#fdca26\"],[1.0,\"#f0f921\"]],\"type\":\"heatmap\"}],\"heatmapgl\":[{\"colorbar\":{\"outlinewidth\":0,\"ticks\":\"\"},\"colorscale\":[[0.0,\"#0d0887\"],[0.1111111111111111,\"#46039f\"],[0.2222222222222222,\"#7201a8\"],[0.3333333333333333,\"#9c179e\"],[0.4444444444444444,\"#bd3786\"],[0.5555555555555556,\"#d8576b\"],[0.6666666666666666,\"#ed7953\"],[0.7777777777777778,\"#fb9f3a\"],[0.8888888888888888,\"#fdca26\"],[1.0,\"#f0f921\"]],\"type\":\"heatmapgl\"}],\"histogram\":[{\"marker\":{\"pattern\":{\"fillmode\":\"overlay\",\"size\":10,\"solidity\":0.2}},\"type\":\"histogram\"}],\"histogram2d\":[{\"colorbar\":{\"outlinewidth\":0,\"ticks\":\"\"},\"colorscale\":[[0.0,\"#0d0887\"],[0.1111111111111111,\"#46039f\"],[0.2222222222222222,\"#7201a8\"],[0.3333333333333333,\"#9c179e\"],[0.4444444444444444,\"#bd3786\"],[0.5555555555555556,\"#d8576b\"],[0.6666666666666666,\"#ed7953\"],[0.7777777777777778,\"#fb9f3a\"],[0.8888888888888888,\"#fdca26\"],[1.0,\"#f0f921\"]],\"type\":\"histogram2d\"}],\"histogram2dcontour\":[{\"colorbar\":{\"outlinewidth\":0,\"ticks\":\"\"},\"colorscale\":[[0.0,\"#0d0887\"],[0.1111111111111111,\"#46039f\"],[0.2222222222222222,\"#7201a8\"],[0.3333333333333333,\"#9c179e\"],[0.4444444444444444,\"#bd3786\"],[0.5555555555555556,\"#d8576b\"],[0.6666666666666666,\"#ed7953\"],[0.7777777777777778,\"#fb9f3a\"],[0.8888888888888888,\"#fdca26\"],[1.0,\"#f0f921\"]],\"type\":\"histogram2dcontour\"}],\"mesh3d\":[{\"colorbar\":{\"outlinewidth\":0,\"ticks\":\"\"},\"type\":\"mesh3d\"}],\"parcoords\":[{\"line\":{\"colorbar\":{\"outlinewidth\":0,\"ticks\":\"\"}},\"type\":\"parcoords\"}],\"pie\":[{\"automargin\":true,\"type\":\"pie\"}],\"scatter\":[{\"marker\":{\"colorbar\":{\"outlinewidth\":0,\"ticks\":\"\"}},\"type\":\"scatter\"}],\"scatter3d\":[{\"line\":{\"colorbar\":{\"outlinewidth\":0,\"ticks\":\"\"}},\"marker\":{\"colorbar\":{\"outlinewidth\":0,\"ticks\":\"\"}},\"type\":\"scatter3d\"}],\"scattercarpet\":[{\"marker\":{\"colorbar\":{\"outlinewidth\":0,\"ticks\":\"\"}},\"type\":\"scattercarpet\"}],\"scattergeo\":[{\"marker\":{\"colorbar\":{\"outlinewidth\":0,\"ticks\":\"\"}},\"type\":\"scattergeo\"}],\"scattergl\":[{\"marker\":{\"colorbar\":{\"outlinewidth\":0,\"ticks\":\"\"}},\"type\":\"scattergl\"}],\"scattermapbox\":[{\"marker\":{\"colorbar\":{\"outlinewidth\":0,\"ticks\":\"\"}},\"type\":\"scattermapbox\"}],\"scatterpolar\":[{\"marker\":{\"colorbar\":{\"outlinewidth\":0,\"ticks\":\"\"}},\"type\":\"scatterpolar\"}],\"scatterpolargl\":[{\"marker\":{\"colorbar\":{\"outlinewidth\":0,\"ticks\":\"\"}},\"type\":\"scatterpolargl\"}],\"scatterternary\":[{\"marker\":{\"colorbar\":{\"outlinewidth\":0,\"ticks\":\"\"}},\"type\":\"scatterternary\"}],\"surface\":[{\"colorbar\":{\"outlinewidth\":0,\"ticks\":\"\"},\"colorscale\":[[0.0,\"#0d0887\"],[0.1111111111111111,\"#46039f\"],[0.2222222222222222,\"#7201a8\"],[0.3333333333333333,\"#9c179e\"],[0.4444444444444444,\"#bd3786\"],[0.5555555555555556,\"#d8576b\"],[0.6666666666666666,\"#ed7953\"],[0.7777777777777778,\"#fb9f3a\"],[0.8888888888888888,\"#fdca26\"],[1.0,\"#f0f921\"]],\"type\":\"surface\"}],\"table\":[{\"cells\":{\"fill\":{\"color\":\"#EBF0F8\"},\"line\":{\"color\":\"white\"}},\"header\":{\"fill\":{\"color\":\"#C8D4E3\"},\"line\":{\"color\":\"white\"}},\"type\":\"table\"}]},\"layout\":{\"annotationdefaults\":{\"arrowcolor\":\"#2a3f5f\",\"arrowhead\":0,\"arrowwidth\":1},\"autotypenumbers\":\"strict\",\"coloraxis\":{\"colorbar\":{\"outlinewidth\":0,\"ticks\":\"\"}},\"colorscale\":{\"diverging\":[[0,\"#8e0152\"],[0.1,\"#c51b7d\"],[0.2,\"#de77ae\"],[0.3,\"#f1b6da\"],[0.4,\"#fde0ef\"],[0.5,\"#f7f7f7\"],[0.6,\"#e6f5d0\"],[0.7,\"#b8e186\"],[0.8,\"#7fbc41\"],[0.9,\"#4d9221\"],[1,\"#276419\"]],\"sequential\":[[0.0,\"#0d0887\"],[0.1111111111111111,\"#46039f\"],[0.2222222222222222,\"#7201a8\"],[0.3333333333333333,\"#9c179e\"],[0.4444444444444444,\"#bd3786\"],[0.5555555555555556,\"#d8576b\"],[0.6666666666666666,\"#ed7953\"],[0.7777777777777778,\"#fb9f3a\"],[0.8888888888888888,\"#fdca26\"],[1.0,\"#f0f921\"]],\"sequentialminus\":[[0.0,\"#0d0887\"],[0.1111111111111111,\"#46039f\"],[0.2222222222222222,\"#7201a8\"],[0.3333333333333333,\"#9c179e\"],[0.4444444444444444,\"#bd3786\"],[0.5555555555555556,\"#d8576b\"],[0.6666666666666666,\"#ed7953\"],[0.7777777777777778,\"#fb9f3a\"],[0.8888888888888888,\"#fdca26\"],[1.0,\"#f0f921\"]]},\"colorway\":[\"#636efa\",\"#EF553B\",\"#00cc96\",\"#ab63fa\",\"#FFA15A\",\"#19d3f3\",\"#FF6692\",\"#B6E880\",\"#FF97FF\",\"#FECB52\"],\"font\":{\"color\":\"#2a3f5f\"},\"geo\":{\"bgcolor\":\"white\",\"lakecolor\":\"white\",\"landcolor\":\"#E5ECF6\",\"showlakes\":true,\"showland\":true,\"subunitcolor\":\"white\"},\"hoverlabel\":{\"align\":\"left\"},\"hovermode\":\"closest\",\"mapbox\":{\"style\":\"light\"},\"paper_bgcolor\":\"white\",\"plot_bgcolor\":\"#E5ECF6\",\"polar\":{\"angularaxis\":{\"gridcolor\":\"white\",\"linecolor\":\"white\",\"ticks\":\"\"},\"bgcolor\":\"#E5ECF6\",\"radialaxis\":{\"gridcolor\":\"white\",\"linecolor\":\"white\",\"ticks\":\"\"}},\"scene\":{\"xaxis\":{\"backgroundcolor\":\"#E5ECF6\",\"gridcolor\":\"white\",\"gridwidth\":2,\"linecolor\":\"white\",\"showbackground\":true,\"ticks\":\"\",\"zerolinecolor\":\"white\"},\"yaxis\":{\"backgroundcolor\":\"#E5ECF6\",\"gridcolor\":\"white\",\"gridwidth\":2,\"linecolor\":\"white\",\"showbackground\":true,\"ticks\":\"\",\"zerolinecolor\":\"white\"},\"zaxis\":{\"backgroundcolor\":\"#E5ECF6\",\"gridcolor\":\"white\",\"gridwidth\":2,\"linecolor\":\"white\",\"showbackground\":true,\"ticks\":\"\",\"zerolinecolor\":\"white\"}},\"shapedefaults\":{\"line\":{\"color\":\"#2a3f5f\"}},\"ternary\":{\"aaxis\":{\"gridcolor\":\"white\",\"linecolor\":\"white\",\"ticks\":\"\"},\"baxis\":{\"gridcolor\":\"white\",\"linecolor\":\"white\",\"ticks\":\"\"},\"bgcolor\":\"#E5ECF6\",\"caxis\":{\"gridcolor\":\"white\",\"linecolor\":\"white\",\"ticks\":\"\"}},\"title\":{\"x\":0.05},\"xaxis\":{\"automargin\":true,\"gridcolor\":\"white\",\"linecolor\":\"white\",\"ticks\":\"\",\"title\":{\"standoff\":15},\"zerolinecolor\":\"white\",\"zerolinewidth\":2},\"yaxis\":{\"automargin\":true,\"gridcolor\":\"white\",\"linecolor\":\"white\",\"ticks\":\"\",\"title\":{\"standoff\":15},\"zerolinecolor\":\"white\",\"zerolinewidth\":2}}},\"xaxis\":{\"anchor\":\"y\",\"domain\":[0.0,0.94],\"rangeslider\":{\"visible\":true},\"rangeselector\":{\"buttons\":[{\"count\":1,\"label\":\"1m\",\"step\":\"month\",\"stepmode\":\"todate\"},{\"count\":6,\"label\":\"6m\",\"step\":\"month\",\"stepmode\":\"todate\"},{\"count\":1,\"label\":\"YTD\",\"step\":\"year\",\"stepmode\":\"todate\"},{\"count\":1,\"label\":\"1y\",\"step\":\"year\",\"stepmode\":\"backward\"},{\"step\":\"all\"}]},\"type\":\"date\"},\"yaxis\":{\"anchor\":\"x\",\"domain\":[0.0,1.0],\"title\":{\"text\":\"Future price and price of contracts in to\"}},\"yaxis2\":{\"anchor\":\"x\",\"overlaying\":\"y\",\"side\":\"right\",\"title\":{\"text\":\"contracted amount and expected harvest in to\"}},\"shapes\":[{\"type\":\"line\",\"x0\":0,\"x1\":1,\"xref\":\"x domain\",\"y0\":240.0,\"y1\":240.0,\"yref\":\"y2\"},{\"fillcolor\":\"red\",\"line\":{\"width\":0},\"opacity\":0.2,\"type\":\"rect\",\"x0\":0,\"x1\":1,\"xref\":\"x domain\",\"y0\":240.0,\"y1\":800,\"yref\":\"y2\"}],\"title\":{\"text\":\"Future prices, contracted amount in to and GBP and expected harvest\"}},                        {\"responsive\": true}                    ).then(function(){\n",
       "                            \n",
       "var gd = document.getElementById('42bcc242-6ad9-4285-a684-4650917276ab');\n",
       "var x = new MutationObserver(function (mutations, observer) {{\n",
       "        var display = window.getComputedStyle(gd).display;\n",
       "        if (!display || display === 'none') {{\n",
       "            console.log([gd, 'removed!']);\n",
       "            Plotly.purge(gd);\n",
       "            observer.disconnect();\n",
       "        }}\n",
       "}});\n",
       "\n",
       "// Listen for the removal of the full notebook cells\n",
       "var notebookContainer = gd.closest('#notebook-container');\n",
       "if (notebookContainer) {{\n",
       "    x.observe(notebookContainer, {childList: true});\n",
       "}}\n",
       "\n",
       "// Listen for the clearing of the current output cell\n",
       "var outputEl = gd.closest('.output');\n",
       "if (outputEl) {{\n",
       "    x.observe(outputEl, {childList: true});\n",
       "}}\n",
       "\n",
       "                        })                };                });            </script>        </div>"
      ]
     },
     "metadata": {},
     "output_type": "display_data"
    }
   ],
   "source": [
    "fig.show()"
   ]
  }
 ],
 "metadata": {
  "kernelspec": {
   "display_name": "Python 3 (ipykernel)",
   "language": "python",
   "name": "python3"
  },
  "language_info": {
   "codemirror_mode": {
    "name": "ipython",
    "version": 3
   },
   "file_extension": ".py",
   "mimetype": "text/x-python",
   "name": "python",
   "nbconvert_exporter": "python",
   "pygments_lexer": "ipython3",
   "version": "3.9.7"
  }
 },
 "nbformat": 4,
 "nbformat_minor": 5
}
