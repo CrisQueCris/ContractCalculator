{
 "cells": [
  {
   "cell_type": "markdown",
   "id": "041bb162-2c23-4f39-9a16-3bd85d819a56",
   "metadata": {},
   "source": [
    "The commodities-api returns market data of many stock exchanges among them is the Chicago Board of trade."
   ]
  },
  {
   "cell_type": "code",
   "execution_count": 1,
   "id": "d6682b69-7fc3-4895-a1bc-fb583b71f72e",
   "metadata": {},
   "outputs": [
    {
     "ename": "SyntaxError",
     "evalue": "EOL while scanning string literal (apimodule.py, line 41)",
     "output_type": "error",
     "traceback": [
      "Traceback \u001b[1;36m(most recent call last)\u001b[0m:\n",
      "  File \u001b[0;32m~\\anaconda3\\envs\\DA_Env\\lib\\site-packages\\IPython\\core\\interactiveshell.py:3361\u001b[0m in \u001b[0;35mrun_code\u001b[0m\n    exec(code_obj, self.user_global_ns, self.user_ns)\n",
      "\u001b[1;36m  Input \u001b[1;32mIn [1]\u001b[1;36m in \u001b[1;35m<cell line: 2>\u001b[1;36m\u001b[0m\n\u001b[1;33m    from apimodule import get_historical_data, json_to_sql, get_price_since_last_querry\u001b[0m\n",
      "\u001b[1;36m  File \u001b[1;32m~\\Documents\\GitHub\\ContractCalculator\\apimodule.py:41\u001b[1;36m\u001b[0m\n\u001b[1;33m    ''''):\u001b[0m\n\u001b[1;37m          \n^\u001b[0m\n\u001b[1;31mSyntaxError\u001b[0m\u001b[1;31m:\u001b[0m EOL while scanning string literal\n"
     ]
    }
   ],
   "source": [
    "from config_gitignore import api_key\n",
    "from apimodule import get_historical_data, json_to_sql, get_price_since_last_querry"
   ]
  },
  {
   "cell_type": "markdown",
   "id": "af3622a8-d0be-4ff2-b9a1-08f92dfbce78",
   "metadata": {},
   "source": [
    "# Getting historical market data"
   ]
  },
  {
   "cell_type": "markdown",
   "id": "85e5c2ef-4838-47e4-b29b-0a1cbaacd513",
   "metadata": {},
   "source": [
    "https://www.commodities-api.com/documentation\n",
    "\n",
    "// \"timeseries\" endpoint - request exchange rates for a specific period of time\n",
    "\n",
    "https://www.commodities-api.com/api/timeseries\n",
    "? access_key = YOUR_ACCESS_KEY & start_date = YYYY-MM-DD & end_date = YYYY-MM-DD & base = USD & symbols = XAU,XAG"
   ]
  },
  {
   "cell_type": "code",
   "execution_count": 14,
   "id": "31f76403-f2ce-452e-b966-4f40bab69bf7",
   "metadata": {},
   "outputs": [],
   "source": [
    "start_date = '2022-01-01'\n",
    "end_date = '2022-05-13'\n"
   ]
  },
  {
   "cell_type": "code",
   "execution_count": 19,
   "id": "979e774e-3878-4be8-a5aa-3b5904816345",
   "metadata": {},
   "outputs": [],
   "source": [
    "response = get_historical_data(start_date, end_date, api_key)"
   ]
  },
  {
   "cell_type": "code",
   "execution_count": 21,
   "id": "6dea197e-30fe-4b6d-bd71-85116dbc26ed",
   "metadata": {},
   "outputs": [
    {
     "data": {
      "text/plain": [
       "<Response [500]>"
      ]
     },
     "execution_count": 21,
     "metadata": {},
     "output_type": "execute_result"
    }
   ],
   "source": [
    "response"
   ]
  },
  {
   "cell_type": "code",
   "execution_count": 6,
   "id": "43386a3c-533f-4f59-88bd-dc765ab5c06e",
   "metadata": {},
   "outputs": [
    {
     "ename": "KeyError",
     "evalue": "'rates'",
     "output_type": "error",
     "traceback": [
      "\u001b[1;31m---------------------------------------------------------------------------\u001b[0m",
      "\u001b[1;31mKeyError\u001b[0m                                  Traceback (most recent call last)",
      "Input \u001b[1;32mIn [6]\u001b[0m, in \u001b[0;36m<cell line: 1>\u001b[1;34m()\u001b[0m\n\u001b[1;32m----> 1\u001b[0m \u001b[43mjson_to_sql\u001b[49m\u001b[43m(\u001b[49m\u001b[43mresponse\u001b[49m\u001b[43m)\u001b[49m\n",
      "File \u001b[1;32m~\\documents\\github\\ContractCalculator\\apimodule.py:22\u001b[0m, in \u001b[0;36mjson_to_sql\u001b[1;34m(response)\u001b[0m\n\u001b[0;32m     20\u001b[0m con \u001b[38;5;241m=\u001b[39m sqlite3\u001b[38;5;241m.\u001b[39mconnect(\u001b[38;5;124m'\u001b[39m\u001b[38;5;124mprice_data.db\u001b[39m\u001b[38;5;124m'\u001b[39m,timeout\u001b[38;5;241m=\u001b[39m\u001b[38;5;241m10\u001b[39m)\n\u001b[0;32m     21\u001b[0m cur \u001b[38;5;241m=\u001b[39m con\u001b[38;5;241m.\u001b[39mcursor()\n\u001b[1;32m---> 22\u001b[0m \u001b[38;5;28;01mfor\u001b[39;00m date, price \u001b[38;5;129;01min\u001b[39;00m \u001b[43mresponse\u001b[49m\u001b[38;5;241;43m.\u001b[39;49m\u001b[43mjson\u001b[49m\u001b[43m(\u001b[49m\u001b[43m)\u001b[49m\u001b[43m[\u001b[49m\u001b[38;5;124;43m'\u001b[39;49m\u001b[38;5;124;43mdata\u001b[39;49m\u001b[38;5;124;43m'\u001b[39;49m\u001b[43m]\u001b[49m\u001b[43m[\u001b[49m\u001b[38;5;124;43m'\u001b[39;49m\u001b[38;5;124;43mrates\u001b[39;49m\u001b[38;5;124;43m'\u001b[39;49m\u001b[43m]\u001b[49m\u001b[38;5;241m.\u001b[39mitems():\n\u001b[0;32m     23\u001b[0m     price \u001b[38;5;241m=\u001b[39m \u001b[38;5;241m1\u001b[39m\u001b[38;5;241m/\u001b[39m\u001b[38;5;28mlist\u001b[39m(price\u001b[38;5;241m.\u001b[39mvalues())[\u001b[38;5;241m0\u001b[39m]        \n\u001b[0;32m     24\u001b[0m     date_time \u001b[38;5;241m=\u001b[39m datetime\u001b[38;5;241m.\u001b[39mstrptime(date, \u001b[38;5;124m'\u001b[39m\u001b[38;5;124m%\u001b[39m\u001b[38;5;124mY-\u001b[39m\u001b[38;5;124m%\u001b[39m\u001b[38;5;124mm-\u001b[39m\u001b[38;5;132;01m%d\u001b[39;00m\u001b[38;5;124m'\u001b[39m)\n",
      "\u001b[1;31mKeyError\u001b[0m: 'rates'"
     ]
    }
   ],
   "source": [
    "json_to_sql(response)"
   ]
  },
  {
   "cell_type": "markdown",
   "id": "49399d7c-d37f-4306-bf34-ef5d56442cb4",
   "metadata": {},
   "source": [
    "# Get price data since last query"
   ]
  },
  {
   "cell_type": "code",
   "execution_count": 5,
   "id": "28713f0d-4318-4db5-83a0-8917857ac977",
   "metadata": {},
   "outputs": [],
   "source": [
    "new_data = get_price_since_last_querry()"
   ]
  },
  {
   "cell_type": "code",
   "execution_count": 6,
   "id": "50666c2b-5254-4898-bb1b-af4155a2a00d",
   "metadata": {},
   "outputs": [
    {
     "ename": "KeyError",
     "evalue": "'rates'",
     "output_type": "error",
     "traceback": [
      "\u001b[1;31m---------------------------------------------------------------------------\u001b[0m",
      "\u001b[1;31mKeyError\u001b[0m                                  Traceback (most recent call last)",
      "Input \u001b[1;32mIn [6]\u001b[0m, in \u001b[0;36m<cell line: 1>\u001b[1;34m()\u001b[0m\n\u001b[1;32m----> 1\u001b[0m \u001b[43mjson_to_sql\u001b[49m\u001b[43m(\u001b[49m\u001b[43mnew_data\u001b[49m\u001b[43m)\u001b[49m\n",
      "File \u001b[1;32m~\\Documents\\GitHub\\ContractCalculator\\apimodule.py:22\u001b[0m, in \u001b[0;36mjson_to_sql\u001b[1;34m(response)\u001b[0m\n\u001b[0;32m     20\u001b[0m con \u001b[38;5;241m=\u001b[39m sqlite3\u001b[38;5;241m.\u001b[39mconnect(\u001b[38;5;124m'\u001b[39m\u001b[38;5;124mprice_data.db\u001b[39m\u001b[38;5;124m'\u001b[39m,timeout\u001b[38;5;241m=\u001b[39m\u001b[38;5;241m10\u001b[39m)\n\u001b[0;32m     21\u001b[0m cur \u001b[38;5;241m=\u001b[39m con\u001b[38;5;241m.\u001b[39mcursor()\n\u001b[1;32m---> 22\u001b[0m \u001b[38;5;28;01mfor\u001b[39;00m date, price \u001b[38;5;129;01min\u001b[39;00m \u001b[43mresponse\u001b[49m\u001b[38;5;241;43m.\u001b[39;49m\u001b[43mjson\u001b[49m\u001b[43m(\u001b[49m\u001b[43m)\u001b[49m\u001b[43m[\u001b[49m\u001b[38;5;124;43m'\u001b[39;49m\u001b[38;5;124;43mdata\u001b[39;49m\u001b[38;5;124;43m'\u001b[39;49m\u001b[43m]\u001b[49m\u001b[43m[\u001b[49m\u001b[38;5;124;43m'\u001b[39;49m\u001b[38;5;124;43mrates\u001b[39;49m\u001b[38;5;124;43m'\u001b[39;49m\u001b[43m]\u001b[49m\u001b[38;5;241m.\u001b[39mitems():\n\u001b[0;32m     23\u001b[0m     price \u001b[38;5;241m=\u001b[39m \u001b[38;5;241m1\u001b[39m\u001b[38;5;241m/\u001b[39m\u001b[38;5;28mlist\u001b[39m(price\u001b[38;5;241m.\u001b[39mvalues())[\u001b[38;5;241m0\u001b[39m]        \n\u001b[0;32m     24\u001b[0m     date_time \u001b[38;5;241m=\u001b[39m datetime\u001b[38;5;241m.\u001b[39mstrptime(date, \u001b[38;5;124m'\u001b[39m\u001b[38;5;124m%\u001b[39m\u001b[38;5;124mY-\u001b[39m\u001b[38;5;124m%\u001b[39m\u001b[38;5;124mm-\u001b[39m\u001b[38;5;132;01m%d\u001b[39;00m\u001b[38;5;124m'\u001b[39m)\n",
      "\u001b[1;31mKeyError\u001b[0m: 'rates'"
     ]
    }
   ],
   "source": [
    "json_to_sql(new_data)"
   ]
  },
  {
   "cell_type": "code",
   "execution_count": null,
   "id": "7143a712-cb39-4f65-9050-6df48e867db2",
   "metadata": {},
   "outputs": [],
   "source": [
    "con = sqlite"
   ]
  }
 ],
 "metadata": {
  "kernelspec": {
   "display_name": "Python 3 (ipykernel)",
   "language": "python",
   "name": "python3"
  },
  "language_info": {
   "codemirror_mode": {
    "name": "ipython",
    "version": 3
   },
   "file_extension": ".py",
   "mimetype": "text/x-python",
   "name": "python",
   "nbconvert_exporter": "python",
   "pygments_lexer": "ipython3",
   "version": "3.9.7"
  }
 },
 "nbformat": 4,
 "nbformat_minor": 5
}
