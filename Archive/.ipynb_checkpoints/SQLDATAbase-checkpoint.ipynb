{
 "cells": [
  {
   "cell_type": "markdown",
   "id": "fa5fa1f7-4953-47b5-a25f-8fb74762ae2e",
   "metadata": {},
   "source": [
    "# SQLite database"
   ]
  },
  {
   "cell_type": "code",
   "execution_count": 1,
   "id": "3ee896a2-c8ed-4b76-94c2-05f04fdc21df",
   "metadata": {},
   "outputs": [],
   "source": [
    "import sqlite3\n",
    "import pandas as pd\n",
    "import os.path"
   ]
  },
  {
   "cell_type": "markdown",
   "id": "73cb22af-bdf2-49bc-b0ef-f46a2f021579",
   "metadata": {},
   "source": [
    "Create Database structure"
   ]
  },
  {
   "cell_type": "code",
   "execution_count": 2,
   "id": "48d58bc4-1d87-4efa-be46-98c7cad0ce39",
   "metadata": {},
   "outputs": [],
   "source": [
    "def init_db():\n",
    "    con = sqlite3.connect('contrcalc.db')\n",
    "    cur = con.cursor()\n",
    "    cur.execute('''\n",
    "    CREATE TABLE IF NOT EXISTS price_table(\n",
    "        price_id INTEGER PRIMARY KEY,\n",
    "        commodity_id INTEGER NOT NULL,\n",
    "        date_fullfillment DATE NOT NULL,\n",
    "        date_price DATE NOT NULL,\n",
    "        price REAL NOT NULL,\n",
    "        currency TEXT NOT NULL\n",
    "        );\n",
    "    ''')    \n",
    "    con.commit() \n",
    "    cur.execute('''    \n",
    "    CREATE TABLE IF NOT EXISTS price_commodities(\n",
    "        price_id INTEGER,\n",
    "        commodity_id INTEGER,\n",
    "        PRIMARY KEY (price_id),\n",
    "        FOREIGN KEY (price_id)\n",
    "            REFERENCES price_table (price_id)\n",
    "                ON DELETE CASCADE\n",
    "                ON UPDATE NO ACTION,\n",
    "        FOREIGN KEY (commodity_id)\n",
    "            REFERENCES commodities (commodity_id)\n",
    "                ON DELETE CASCADE\n",
    "                ON UPDATE NO ACTION\n",
    "        );  \n",
    "    ''')    \n",
    "    \n",
    "    cur.execute('''\n",
    "    CREATE TABLE IF NOT EXISTS contracts\n",
    "        (contract_id INTEGER PRIMARY KEY,\n",
    "        commodity_id INTEGER NOT NULL,\n",
    "        price_per_to REAL NOT NULL,\n",
    "        amount_to REAL NOT NULL,\n",
    "        date_closure DATE NOT NULL,\n",
    "        date_fullfillment DATE NOT NULL\n",
    "        );\n",
    "    ''')\n",
    "    con.commit()  \n",
    "    \n",
    "    cur.execute('''\n",
    "    CREATE TABLE IF NOT EXISTS contracts_commodities(\n",
    "        contract_id INTEGER,\n",
    "        commodity_id INTEGER,\n",
    "        PRIMARY KEY (contract_id, commodity_id),\n",
    "        FOREIGN KEY (contract_id)\n",
    "            REFERENCES contracts (contract_id)\n",
    "                ON DELETE CASCADE\n",
    "                ON UPDATE NO ACTION,\n",
    "        FOREIGN KEY (commodity_id)\n",
    "            REFERENCES commodities (commodity_id)\n",
    "                ON DELETE CASCADE\n",
    "                ON UPDATE NO ACTION\n",
    "    );\n",
    "    ''')\n",
    "    con.commit()\n",
    "    \n",
    "    cur.execute('''\n",
    "    CREATE TABLE IF NOT EXISTS commodities(\n",
    "        commodity_id INTEGER PRIMARY KEY UNIQUE,\n",
    "        name TEXT UNIQUE NOT NULL,\n",
    "        harvest_month INTEGER NOT NULL,\n",
    "        sowing_month INTEGER NOT NULL,\n",
    "        reference_harvest_to REAL NOT NULL,\n",
    "        estimate_harvest_to REAL,\n",
    "        area_planted REAL        \n",
    "    );\n",
    "    \n",
    "    ''')\n",
    "    con.commit()\n",
    "    con.close()\n",
    "    return"
   ]
  },
  {
   "cell_type": "code",
   "execution_count": 3,
   "id": "10cb65d1-6db3-43f3-9526-aa5bd3be6ec5",
   "metadata": {},
   "outputs": [],
   "source": [
    "init_db()"
   ]
  },
  {
   "cell_type": "markdown",
   "id": "f1a359de-1ce3-4306-9f54-a67c3ed9c248",
   "metadata": {},
   "source": [
    "Show DATABASE Structures:"
   ]
  },
  {
   "cell_type": "code",
   "execution_count": 4,
   "id": "eaa216b8-6ae0-427d-85fa-1eec5fb4b657",
   "metadata": {},
   "outputs": [],
   "source": [
    "def show_db_tables():\n",
    "    con = sqlite3.connect('contrcalc.db')\n",
    "    cursor = con.cursor()\n",
    "    cursor.execute(\"SELECT name FROM sqlite_master WHERE type='table';\")\n",
    "    table_list = cursor.fetchall()\n",
    "    con.close()\n",
    "    return table_list"
   ]
  },
  {
   "cell_type": "code",
   "execution_count": 5,
   "id": "e7ea349e-f2f1-4339-b376-5baef6de6b9c",
   "metadata": {},
   "outputs": [
    {
     "data": {
      "text/plain": [
       "[('price_table',),\n",
       " ('price_commodities',),\n",
       " ('contracts',),\n",
       " ('contracts_commodities',),\n",
       " ('commodities',)]"
      ]
     },
     "execution_count": 5,
     "metadata": {},
     "output_type": "execute_result"
    }
   ],
   "source": [
    "table_list = show_db_tables()\n",
    "table_list"
   ]
  },
  {
   "cell_type": "markdown",
   "id": "31a8f32a-e81d-4241-98b7-56a6ddf19001",
   "metadata": {},
   "source": [
    "Populate Commodities Table"
   ]
  },
  {
   "cell_type": "code",
   "execution_count": 6,
   "id": "6c2e25f1-9533-4d9d-bf56-ddc45a0f57aa",
   "metadata": {},
   "outputs": [],
   "source": [
    "def populate_commodities():\n",
    "    commodities = [ 'barley', 'wheat', 'corn', 'rapeseed']\n",
    "    harvest_month= [6, 8, 9, 7]\n",
    "    sowing_month= [8, 9, 4, 8]\n",
    "    reference_harvest_to = [7.88, 6.4, 8.2, 3.69]\n",
    "    con = sqlite3.connect('contrcalc.db')\n",
    "    cursor = con.cursor()\n",
    "    for i in range(0, len(commodities)):\n",
    "        cursor.execute(\"\"\"\n",
    "    INSERT INTO commodities (name, harvest_month, sowing_month, reference_harvest_to)\n",
    "        VALUES(?,?,?,?)\n",
    "        \"\"\", (commodities[i], harvest_month[i], sowing_month[i], reference_harvest_to[i]))\n",
    "    con.commit()\n",
    "    con.close()\n",
    "    return\n",
    "populate_commodities()"
   ]
  },
  {
   "cell_type": "code",
   "execution_count": 7,
   "id": "e95e8190-f963-4600-8360-2797a5cbe291",
   "metadata": {
    "tags": []
   },
   "outputs": [],
   "source": [
    "def get_table_df(table_name, database_path='contrcalc.db'):\n",
    "    \"\"\"Returns (table, connection). table is a pandas DataFrame.\"\"\"\n",
    "    #BASE_DIR = os.path.dirname(os.path.abspath(__file__))\n",
    "    #db_path = os.path.join(BASE_DIR, database_path)\n",
    "    con = sqlite3.connect(database_path)\n",
    "    try:\n",
    "        df = pd.read_sql(\"SELECT * FROM %s\" %table_name, con)\n",
    "        #  print(\"\\nLoading %s table from SQLite3 database.\" % table_name)\n",
    "    except DatabaseError as e:\n",
    "        if 'no such table' in e.args[0]:\n",
    "            print(\"\\nNo such table: %s\" % table_name)\n",
    "            print(\"Create the table before loading it. \" +\n",
    "                  \"Consider using the create_sqlite_table function\")\n",
    "            raise DatabaseError\n",
    "        else:\n",
    "            print(e)\n",
    "            raise Exception(\"Failed to create %s table. Unknown error.\" %\n",
    "                            table_name)\n",
    "    return df, con"
   ]
  },
  {
   "cell_type": "code",
   "execution_count": 8,
   "id": "aa5da8c0-0958-446d-bef5-295fa255314b",
   "metadata": {},
   "outputs": [
    {
     "data": {
      "text/plain": [
       "(   commodity_id      name  harvest_month  sowing_month  reference_harvest_to  \\\n",
       " 0             1    barley              6             8                  7.88   \n",
       " 1             2     wheat              8             9                  6.40   \n",
       " 2             3      corn              9             4                  8.20   \n",
       " 3             4  rapeseed              7             8                  3.69   \n",
       " \n",
       "   estimate_harvest_to area_planted  \n",
       " 0                None         None  \n",
       " 1                None         None  \n",
       " 2                None         None  \n",
       " 3                None         None  ,\n",
       " <sqlite3.Connection at 0x1c2d5a6bb70>)"
      ]
     },
     "execution_count": 8,
     "metadata": {},
     "output_type": "execute_result"
    }
   ],
   "source": [
    "commodities_df = get_table_df('commodities')\n",
    "commodities_df"
   ]
  }
 ],
 "metadata": {
  "kernelspec": {
   "display_name": "Python 3 (ipykernel)",
   "language": "python",
   "name": "python3"
  },
  "language_info": {
   "codemirror_mode": {
    "name": "ipython",
    "version": 3
   },
   "file_extension": ".py",
   "mimetype": "text/x-python",
   "name": "python",
   "nbconvert_exporter": "python",
   "pygments_lexer": "ipython3",
   "version": "3.9.7"
  }
 },
 "nbformat": 4,
 "nbformat_minor": 5
}
