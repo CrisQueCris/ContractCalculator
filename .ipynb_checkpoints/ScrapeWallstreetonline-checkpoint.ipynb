{
 "cells": [
  {
   "cell_type": "markdown",
   "id": "5492eae5-4318-465d-b554-c33bbdfc312a",
   "metadata": {},
   "source": [
    "# Scrape Wallstreet online"
   ]
  },
  {
   "cell_type": "code",
   "execution_count": 1,
   "id": "00936b8f-179a-4d01-99d0-1742e7514742",
   "metadata": {},
   "outputs": [],
   "source": [
    "import requests\n",
    "from bs4 import BeautifulSoup\n",
    "from time import sleep\n",
    "from random import randint\n",
    "from selenium import webdriver\n",
    "from webdriver_manager.chrome import ChromeDriverManager\n",
    "from urllib.request import Request, urlopen\n",
    "import pandas as pd\n",
    "from datetime import datetime"
   ]
  },
  {
   "cell_type": "code",
   "execution_count": 2,
   "id": "4c44c067-bc77-4a4f-aee7-07240e1df94d",
   "metadata": {},
   "outputs": [
    {
     "name": "stderr",
     "output_type": "stream",
     "text": [
      "\n",
      "\n",
      "====== WebDriver manager ======\n",
      "Current google-chrome version is 101.0.4951\n",
      "Get LATEST chromedriver version for 101.0.4951 google-chrome\n",
      "Driver [C:\\Users\\Lenovo\\.wdm\\drivers\\chromedriver\\win32\\101.0.4951.41\\chromedriver.exe] found in cache\n",
      "C:\\Users\\Lenovo\\AppData\\Local\\Temp\\ipykernel_12564\\1503906442.py:1: DeprecationWarning: executable_path has been deprecated, please pass in a Service object\n",
      "  driver = webdriver.Chrome(ChromeDriverManager().install())\n"
     ]
    }
   ],
   "source": [
    "driver = webdriver.Chrome(ChromeDriverManager().install())"
   ]
  },
  {
   "cell_type": "code",
   "execution_count": 3,
   "id": "443f38df-e05d-47b7-91da-23b0b212fdaa",
   "metadata": {},
   "outputs": [],
   "source": [
    "#url = \"https://live.euronext.com/de/product/commodities-futures/EBM-DPAR\""
   ]
  },
  {
   "cell_type": "code",
   "execution_count": 4,
   "id": "687ebcaa-e334-4d35-8778-6aeb555e1e3b",
   "metadata": {},
   "outputs": [],
   "source": [
    " url = 'https://www.wallstreet-online.de/rohstoffe/hu0002045586-weizen-1-tonne-1000-kg-europe-preis'"
   ]
  },
  {
   "cell_type": "code",
   "execution_count": 5,
   "id": "63498cfc-447c-4f16-9d28-224ac32944e5",
   "metadata": {},
   "outputs": [],
   "source": [
    "driver.get(url)\n",
    "page = driver.page_source\n"
   ]
  },
  {
   "cell_type": "code",
   "execution_count": 6,
   "id": "c8d4bb35-7a20-4d7d-8dcc-0081de824d85",
   "metadata": {},
   "outputs": [],
   "source": [
    "#result = requests.get(url)"
   ]
  },
  {
   "cell_type": "code",
   "execution_count": 7,
   "id": "e02a86fa-602b-48fe-8380-bbc3c15ed2cb",
   "metadata": {},
   "outputs": [],
   "source": [
    "soup = BeautifulSoup(page, 'html')"
   ]
  },
  {
   "cell_type": "code",
   "execution_count": 8,
   "id": "190add8d-b5d3-4456-a2fa-af869f29d0cb",
   "metadata": {},
   "outputs": [
    {
     "data": {
      "text/plain": [
       "['Mai 2022',\n",
       " 'Jul 2022',\n",
       " 'Nov 2022',\n",
       " 'Jan 2023',\n",
       " 'Mär 2023',\n",
       " 'Mai 2023',\n",
       " 'Jul 2023',\n",
       " 'Nov 2023',\n",
       " 'Jan 2024']"
      ]
     },
     "execution_count": 8,
     "metadata": {},
     "output_type": "execute_result"
    }
   ],
   "source": [
    "future_duration = [] #link in a href\n",
    "i = 1\n",
    "while i < 10: \n",
    "    a = soup.select(f\"  tr:nth-child({i}) > td.toUpperCase > div > a\")[0]\n",
    "    future_duration.append(a.get_text())\n",
    "    i+=1\n",
    "future_duration    \n"
   ]
  },
  {
   "cell_type": "code",
   "execution_count": 9,
   "id": "203056ba-77ab-4ab6-b494-fdb2c31756f6",
   "metadata": {},
   "outputs": [
    {
     "name": "stderr",
     "output_type": "stream",
     "text": [
      "C:\\Users\\Lenovo\\AppData\\Local\\Temp\\ipykernel_12564\\4251256703.py:8: FutureWarning: The frame.append method is deprecated and will be removed from pandas in a future version. Use pandas.concat instead.\n",
      "  future_price_today = future_price_today.append(ser, ignore_index=True)\n",
      "C:\\Users\\Lenovo\\AppData\\Local\\Temp\\ipykernel_12564\\4251256703.py:8: FutureWarning: The frame.append method is deprecated and will be removed from pandas in a future version. Use pandas.concat instead.\n",
      "  future_price_today = future_price_today.append(ser, ignore_index=True)\n",
      "C:\\Users\\Lenovo\\AppData\\Local\\Temp\\ipykernel_12564\\4251256703.py:8: FutureWarning: The frame.append method is deprecated and will be removed from pandas in a future version. Use pandas.concat instead.\n",
      "  future_price_today = future_price_today.append(ser, ignore_index=True)\n",
      "C:\\Users\\Lenovo\\AppData\\Local\\Temp\\ipykernel_12564\\4251256703.py:8: FutureWarning: The frame.append method is deprecated and will be removed from pandas in a future version. Use pandas.concat instead.\n",
      "  future_price_today = future_price_today.append(ser, ignore_index=True)\n",
      "C:\\Users\\Lenovo\\AppData\\Local\\Temp\\ipykernel_12564\\4251256703.py:8: FutureWarning: The frame.append method is deprecated and will be removed from pandas in a future version. Use pandas.concat instead.\n",
      "  future_price_today = future_price_today.append(ser, ignore_index=True)\n",
      "C:\\Users\\Lenovo\\AppData\\Local\\Temp\\ipykernel_12564\\4251256703.py:8: FutureWarning: The frame.append method is deprecated and will be removed from pandas in a future version. Use pandas.concat instead.\n",
      "  future_price_today = future_price_today.append(ser, ignore_index=True)\n",
      "C:\\Users\\Lenovo\\AppData\\Local\\Temp\\ipykernel_12564\\4251256703.py:8: FutureWarning: The frame.append method is deprecated and will be removed from pandas in a future version. Use pandas.concat instead.\n",
      "  future_price_today = future_price_today.append(ser, ignore_index=True)\n",
      "C:\\Users\\Lenovo\\AppData\\Local\\Temp\\ipykernel_12564\\4251256703.py:8: FutureWarning: The frame.append method is deprecated and will be removed from pandas in a future version. Use pandas.concat instead.\n",
      "  future_price_today = future_price_today.append(ser, ignore_index=True)\n",
      "C:\\Users\\Lenovo\\AppData\\Local\\Temp\\ipykernel_12564\\4251256703.py:8: FutureWarning: The frame.append method is deprecated and will be removed from pandas in a future version. Use pandas.concat instead.\n",
      "  future_price_today = future_price_today.append(ser, ignore_index=True)\n",
      "C:\\Users\\Lenovo\\AppData\\Local\\Temp\\ipykernel_12564\\4251256703.py:8: FutureWarning: The frame.append method is deprecated and will be removed from pandas in a future version. Use pandas.concat instead.\n",
      "  future_price_today = future_price_today.append(ser, ignore_index=True)\n"
     ]
    },
    {
     "data": {
      "text/html": [
       "<div>\n",
       "<style scoped>\n",
       "    .dataframe tbody tr th:only-of-type {\n",
       "        vertical-align: middle;\n",
       "    }\n",
       "\n",
       "    .dataframe tbody tr th {\n",
       "        vertical-align: top;\n",
       "    }\n",
       "\n",
       "    .dataframe thead th {\n",
       "        text-align: right;\n",
       "    }\n",
       "</style>\n",
       "<table border=\"1\" class=\"dataframe\">\n",
       "  <thead>\n",
       "    <tr style=\"text-align: right;\">\n",
       "      <th></th>\n",
       "      <th>Kontrakt</th>\n",
       "      <th>letzer_kurs</th>\n",
       "      <th>absolut</th>\n",
       "      <th>perf_perc</th>\n",
       "      <th>Fälligkeit</th>\n",
       "      <th>Vergleich</th>\n",
       "      <th>date_scraped</th>\n",
       "    </tr>\n",
       "  </thead>\n",
       "  <tbody>\n",
       "    <tr>\n",
       "      <th>0</th>\n",
       "      <td>Mai 2022</td>\n",
       "      <td>348,65GBP</td>\n",
       "      <td>+4,65 GBP</td>\n",
       "      <td>+1,35 %</td>\n",
       "      <td>23.05.2022</td>\n",
       "      <td>Chart</td>\n",
       "      <td>2022-05-13 15:18:57.831859</td>\n",
       "    </tr>\n",
       "    <tr>\n",
       "      <th>1</th>\n",
       "      <td>Jul 2022</td>\n",
       "      <td>344,45GBP</td>\n",
       "      <td>+4,65 GBP</td>\n",
       "      <td>+1,37 %</td>\n",
       "      <td>07.07.2022</td>\n",
       "      <td>Chart</td>\n",
       "      <td>2022-05-13 15:18:58.271608</td>\n",
       "    </tr>\n",
       "    <tr>\n",
       "      <th>2</th>\n",
       "      <td>Nov 2022</td>\n",
       "      <td>333,15GBP</td>\n",
       "      <td>+4,65 GBP</td>\n",
       "      <td>+1,42 %</td>\n",
       "      <td>23.11.2022</td>\n",
       "      <td>Chart</td>\n",
       "      <td>2022-05-13 15:18:58.285599</td>\n",
       "    </tr>\n",
       "    <tr>\n",
       "      <th>3</th>\n",
       "      <td>Jan 2023</td>\n",
       "      <td>335,15GBP</td>\n",
       "      <td>+4,65 GBP</td>\n",
       "      <td>+1,41 %</td>\n",
       "      <td>23.01.2023</td>\n",
       "      <td>Chart</td>\n",
       "      <td>2022-05-13 15:18:58.301592</td>\n",
       "    </tr>\n",
       "    <tr>\n",
       "      <th>4</th>\n",
       "      <td>Mär 2023</td>\n",
       "      <td>336,95GBP</td>\n",
       "      <td>+4,95 GBP</td>\n",
       "      <td>+1,49 %</td>\n",
       "      <td>23.03.2023</td>\n",
       "      <td>Chart</td>\n",
       "      <td>2022-05-13 15:18:58.317581</td>\n",
       "    </tr>\n",
       "    <tr>\n",
       "      <th>5</th>\n",
       "      <td>Mai 2023</td>\n",
       "      <td>338,95GBP</td>\n",
       "      <td>+5,25 GBP</td>\n",
       "      <td>+1,57 %</td>\n",
       "      <td>23.05.2023</td>\n",
       "      <td>Chart</td>\n",
       "      <td>2022-05-13 15:18:58.331574</td>\n",
       "    </tr>\n",
       "    <tr>\n",
       "      <th>6</th>\n",
       "      <td>Jul 2023</td>\n",
       "      <td>312,50GBP</td>\n",
       "      <td>+3,00 GBP</td>\n",
       "      <td>+0,97 %</td>\n",
       "      <td>07.07.2023</td>\n",
       "      <td>Chart</td>\n",
       "      <td>2022-05-13 15:18:58.344567</td>\n",
       "    </tr>\n",
       "    <tr>\n",
       "      <th>7</th>\n",
       "      <td>Nov 2023</td>\n",
       "      <td>281,45GBP</td>\n",
       "      <td>+0,75 GBP</td>\n",
       "      <td>+0,27 %</td>\n",
       "      <td>23.11.2023</td>\n",
       "      <td>Chart</td>\n",
       "      <td>2022-05-13 15:18:58.358560</td>\n",
       "    </tr>\n",
       "    <tr>\n",
       "      <th>8</th>\n",
       "      <td>Jan 2024</td>\n",
       "      <td>282,40GBP</td>\n",
       "      <td>+0,75 GBP</td>\n",
       "      <td>+0,27 %</td>\n",
       "      <td>23.01.2024</td>\n",
       "      <td>Chart</td>\n",
       "      <td>2022-05-13 15:18:58.373552</td>\n",
       "    </tr>\n",
       "    <tr>\n",
       "      <th>9</th>\n",
       "      <td>Mär 2024</td>\n",
       "      <td>283,90GBP</td>\n",
       "      <td>+0,75 GBP</td>\n",
       "      <td>+0,26 %</td>\n",
       "      <td>22.03.2024</td>\n",
       "      <td>Chart</td>\n",
       "      <td>2022-05-13 15:18:58.386544</td>\n",
       "    </tr>\n",
       "  </tbody>\n",
       "</table>\n",
       "</div>"
      ],
      "text/plain": [
       "   Kontrakt letzer_kurs    absolut perf_perc  Fälligkeit Vergleich  \\\n",
       "0  Mai 2022   348,65GBP  +4,65 GBP   +1,35 %  23.05.2022     Chart   \n",
       "1  Jul 2022   344,45GBP  +4,65 GBP   +1,37 %  07.07.2022     Chart   \n",
       "2  Nov 2022   333,15GBP  +4,65 GBP   +1,42 %  23.11.2022     Chart   \n",
       "3  Jan 2023   335,15GBP  +4,65 GBP   +1,41 %  23.01.2023     Chart   \n",
       "4  Mär 2023   336,95GBP  +4,95 GBP   +1,49 %  23.03.2023     Chart   \n",
       "5  Mai 2023   338,95GBP  +5,25 GBP   +1,57 %  23.05.2023     Chart   \n",
       "6  Jul 2023   312,50GBP  +3,00 GBP   +0,97 %  07.07.2023     Chart   \n",
       "7  Nov 2023   281,45GBP  +0,75 GBP   +0,27 %  23.11.2023     Chart   \n",
       "8  Jan 2024   282,40GBP  +0,75 GBP   +0,27 %  23.01.2024     Chart   \n",
       "9  Mär 2024   283,90GBP  +0,75 GBP   +0,26 %  22.03.2024     Chart   \n",
       "\n",
       "                 date_scraped  \n",
       "0  2022-05-13 15:18:57.831859  \n",
       "1  2022-05-13 15:18:58.271608  \n",
       "2  2022-05-13 15:18:58.285599  \n",
       "3  2022-05-13 15:18:58.301592  \n",
       "4  2022-05-13 15:18:58.317581  \n",
       "5  2022-05-13 15:18:58.331574  \n",
       "6  2022-05-13 15:18:58.344567  \n",
       "7  2022-05-13 15:18:58.358560  \n",
       "8  2022-05-13 15:18:58.373552  \n",
       "9  2022-05-13 15:18:58.386544  "
      ]
     },
     "execution_count": 9,
     "metadata": {},
     "output_type": "execute_result"
    }
   ],
   "source": [
    "future_price_today = pd.DataFrame(columns=['Kontrakt', 'letzer_kurs', 'absolut', 'perf_perc', 'Fälligkeit', 'Vergleich', 'date_scraped'])\n",
    "for i in soup.select('div:nth-child(11) > table > tbody >tr'):\n",
    "    row = []\n",
    "    for j in i.select('td'):\n",
    "        row.append(j.get_text())\n",
    "    row.append(datetime.now())\n",
    "    ser = pd.Series(row, index=['Kontrakt', 'letzer_kurs', 'absolut', 'perf_perc', 'Fälligkeit', 'Vergleich', 'date_scraped'])\n",
    "    future_price_today = future_price_today.append(ser, ignore_index=True)\n",
    "future_price_today       "
   ]
  }
 ],
 "metadata": {
  "kernelspec": {
   "display_name": "Python 3 (ipykernel)",
   "language": "python",
   "name": "python3"
  },
  "language_info": {
   "codemirror_mode": {
    "name": "ipython",
    "version": 3
   },
   "file_extension": ".py",
   "mimetype": "text/x-python",
   "name": "python",
   "nbconvert_exporter": "python",
   "pygments_lexer": "ipython3",
   "version": "3.9.7"
  }
 },
 "nbformat": 4,
 "nbformat_minor": 5
}
