{
 "cells": [
  {
   "cell_type": "markdown",
   "id": "5492eae5-4318-465d-b554-c33bbdfc312a",
   "metadata": {},
   "source": [
    "# Scrape Wallstreet online"
   ]
  },
  {
   "cell_type": "code",
   "execution_count": 1,
   "id": "00936b8f-179a-4d01-99d0-1742e7514742",
   "metadata": {},
   "outputs": [
    {
     "ename": "ImportError",
     "evalue": "cannot import name 'future_price_to_sql' from 'ModulScrapeWallstreet' (C:\\Users\\Lenovo\\Documents\\GitHub\\ContractCalculator\\ModulScrapeWallstreet.py)",
     "output_type": "error",
     "traceback": [
      "\u001b[1;31m---------------------------------------------------------------------------\u001b[0m",
      "\u001b[1;31mImportError\u001b[0m                               Traceback (most recent call last)",
      "Input \u001b[1;32mIn [1]\u001b[0m, in \u001b[0;36m<cell line: 1>\u001b[1;34m()\u001b[0m\n\u001b[1;32m----> 1\u001b[0m \u001b[38;5;28;01mfrom\u001b[39;00m \u001b[38;5;21;01mModulScrapeWallstreet\u001b[39;00m \u001b[38;5;28;01mimport\u001b[39;00m scrape_futureprice, future_price_to_sql\n",
      "\u001b[1;31mImportError\u001b[0m: cannot import name 'future_price_to_sql' from 'ModulScrapeWallstreet' (C:\\Users\\Lenovo\\Documents\\GitHub\\ContractCalculator\\ModulScrapeWallstreet.py)"
     ]
    }
   ],
   "source": [
    "from ModulScrapeWallstreet import scrape_futureprice\n",
    "\n"
   ]
  },
  {
   "cell_type": "code",
   "execution_count": null,
   "id": "6697445f-3b81-4a37-b6ba-e558a61d78ff",
   "metadata": {},
   "outputs": [],
   "source": [
    "future_df = scrape_futureprice()"
   ]
  },
  {
   "cell_type": "code",
   "execution_count": null,
   "id": "f6007000-ddc1-411c-ba57-29c1a3a851e8",
   "metadata": {},
   "outputs": [],
   "source": [
    "future_df"
   ]
  },
  {
   "cell_type": "code",
   "execution_count": null,
   "id": "ccaf27f3-c0cd-4e62-9908-5dbf4459c268",
   "metadata": {},
   "outputs": [],
   "source": [
    "future_df.info()"
   ]
  },
  {
   "cell_type": "code",
   "execution_count": null,
   "id": "843cd714-5cc0-48a2-b1be-256860fb3fef",
   "metadata": {},
   "outputs": [],
   "source": [
    "tosql_df = future_df[['commodity_id', 'date_fullfillment', 'date_price', 'price', 'currency']]"
   ]
  },
  {
   "cell_type": "code",
   "execution_count": null,
   "id": "f5b7d72d-132b-4c38-a35b-eb13e5885f7b",
   "metadata": {},
   "outputs": [],
   "source": [
    "import sqlite3\n",
    "def future_price_to_sql(future_price_today):\n",
    "    con = sqlite3.connect('contrcalc.db') \n",
    "    future_price_today.to_sql('price_table', con, if_exists='append', index=False)\n",
    "    return\n",
    "future_price_to_sql(tosql_df)"
   ]
  },
  {
   "cell_type": "code",
   "execution_count": null,
   "id": "f369aad6-a732-4e7a-835f-d0dbabe39af7",
   "metadata": {},
   "outputs": [],
   "source": [
    "future_df.to_csv('Data/future_df.csv')"
   ]
  }
 ],
 "metadata": {
  "kernelspec": {
   "display_name": "Python 3 (ipykernel)",
   "language": "python",
   "name": "python3"
  },
  "language_info": {
   "codemirror_mode": {
    "name": "ipython",
    "version": 3
   },
   "file_extension": ".py",
   "mimetype": "text/x-python",
   "name": "python",
   "nbconvert_exporter": "python",
   "pygments_lexer": "ipython3",
   "version": "3.9.7"
  }
 },
 "nbformat": 4,
 "nbformat_minor": 5
}
