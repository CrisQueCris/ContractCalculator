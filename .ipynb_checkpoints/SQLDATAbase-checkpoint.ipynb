{
 "cells": [
  {
   "cell_type": "markdown",
   "id": "fa5fa1f7-4953-47b5-a25f-8fb74762ae2e",
   "metadata": {},
   "source": [
    "# SQLite database"
   ]
  },
  {
   "cell_type": "code",
   "execution_count": 1,
   "id": "3ee896a2-c8ed-4b76-94c2-05f04fdc21df",
   "metadata": {},
   "outputs": [],
   "source": [
    "import sqlite3\n",
    "import pandas as pd"
   ]
  },
  {
   "cell_type": "code",
   "execution_count": 3,
   "id": "e1fe58c4-3996-4698-abc5-bdec52c42477",
   "metadata": {},
   "outputs": [],
   "source": []
  },
  {
   "cell_type": "markdown",
   "id": "73cb22af-bdf2-49bc-b0ef-f46a2f021579",
   "metadata": {},
   "source": [
    "Create table Wheat Spotprice"
   ]
  },
  {
   "cell_type": "code",
   "execution_count": 17,
   "id": "48d58bc4-1d87-4efa-be46-98c7cad0ce39",
   "metadata": {},
   "outputs": [],
   "source": [
    "def init_db():\n",
    "    con = sqlite3.connect('price_data.db')\n",
    "    cur = con.cursor()\n",
    "    cur.execute('''\n",
    "    CREATE TABLE IF NOT EXISTS price_table(\n",
    "        price_id INTEGER PRIMARY KEY,\n",
    "        commodity_id INTEGER NOT NULL,\n",
    "        date_fullfillment INTEGER, --month 1-12\n",
    "        date_price DATE NOT NULL,\n",
    "        price REAL NOT NULL\n",
    "        );\n",
    "    ''')    \n",
    "    con.commit() \n",
    "    cur.execute('''    \n",
    "    CREATE TABLE IF NOT EXISTS price_commodities(\n",
    "        price_id INTEGER,\n",
    "        commodity_id INTEGER,\n",
    "        PRIMARY KEY (price_id),\n",
    "        FOREIGN KEY (price_id)\n",
    "            REFERENCES price_table (price_id)\n",
    "                ON DELETE CASCADE\n",
    "                ON UPDATE NO ACTION,\n",
    "        FOREIGN KEY (commodity_id)\n",
    "            REFERENCES commodities (commodity_id)\n",
    "                ON DELETE CASCADE\n",
    "                ON UPDATE NO ACTION\n",
    "        );  \n",
    "    ''')    \n",
    "    \n",
    "    cur.execute('''\n",
    "    CREATE TABLE IF NOT EXISTS contracts\n",
    "        (contract_id INTEGER PRIMARY KEY UNIQUE,\n",
    "        commodity_id INTEGER NOT NULL,\n",
    "        price_per_to REAL NOT NULL,\n",
    "        amount_to REAL NOT NULL,\n",
    "        date_closure DATE NOT NULL,\n",
    "        date_fullfillment DATE NOT NULL\n",
    "        );\n",
    "    ''')\n",
    "    con.commit()  \n",
    "    \n",
    "    cur.execute('''\n",
    "    CREATE TABLE IF NOT EXISTS contracts_commodities(\n",
    "        contract_id INTEGER,\n",
    "        commodity_id INTEGER,\n",
    "        PRIMARY KEY (contract_id, commodity_id),\n",
    "        FOREIGN KEY (contract_id)\n",
    "            REFERENCES contracts (contract_id)\n",
    "                ON DELETE CASCADE\n",
    "                ON UPDATE NO ACTION,\n",
    "        FOREIGN KEY (commodity_id)\n",
    "            REFERENCES commodities (commodity_id)\n",
    "                ON DELETE CASCADE\n",
    "                ON UPDATE NO ACTION\n",
    "    );\n",
    "    ''')\n",
    "    con.commit()\n",
    "    \n",
    "    cur.execute('''\n",
    "    CREATE TABLE IF NOT EXISTS commodities(\n",
    "        commodity_id INTEGER PRIMARY KEY UNIQUE,\n",
    "        name TEXT UNIQUE NOT NULL,\n",
    "        harvest_month INTEGER NOT NULL,\n",
    "        sowing_month INTEGER NOT NULL,\n",
    "        reference_harvest_to REAL NOT NULL\n",
    "    );\n",
    "    \n",
    "    ''')\n",
    "    con.commit()\n",
    "    con.close()\n",
    "    return"
   ]
  },
  {
   "cell_type": "code",
   "execution_count": 18,
   "id": "10cb65d1-6db3-43f3-9526-aa5bd3be6ec5",
   "metadata": {},
   "outputs": [],
   "source": [
    "init_db()"
   ]
  },
  {
   "cell_type": "markdown",
   "id": "6edf0c64-0da3-41f5-b9ac-619c769e5cc2",
   "metadata": {},
   "source": [
    "Populate table Wheat Spotprice"
   ]
  },
  {
   "cell_type": "markdown",
   "id": "eccc0b9c-e7f0-457b-adef-69c888050c73",
   "metadata": {},
   "source": [
    "Check result:"
   ]
  },
  {
   "cell_type": "code",
   "execution_count": 25,
   "id": "b5b85c19-c80c-435d-8054-16106fb7059b",
   "metadata": {},
   "outputs": [],
   "source": [
    "def get_wheat_df():\n",
    "    '''returns all entries from wheat_spotprice_table as dataframe'''\n",
    "    con = sqlite3.connect('price_data.db')\n",
    "    wheat_df = pd.read_sql('''\n",
    "    Select * FROM wheat_spotprice''', con,  parse_dates=['date'])\n",
    "    return wheat_df\n"
   ]
  },
  {
   "cell_type": "code",
   "execution_count": 26,
   "id": "cdaffcea-c081-440a-a9a5-bae22ef080fd",
   "metadata": {},
   "outputs": [
    {
     "name": "stdout",
     "output_type": "stream",
     "text": [
      "<class 'pandas.core.frame.DataFrame'>\n",
      "RangeIndex: 213 entries, 0 to 212\n",
      "Data columns (total 2 columns):\n",
      " #   Column  Non-Null Count  Dtype  \n",
      "---  ------  --------------  -----  \n",
      " 0   date    213 non-null    object \n",
      " 1   price   213 non-null    float64\n",
      "dtypes: float64(1), object(1)\n",
      "memory usage: 3.5+ KB\n"
     ]
    }
   ],
   "source": [
    "wheat_df = check_wheat_spotprice()\n",
    "wheat_df.info()"
   ]
  }
 ],
 "metadata": {
  "kernelspec": {
   "display_name": "Python 3 (ipykernel)",
   "language": "python",
   "name": "python3"
  },
  "language_info": {
   "codemirror_mode": {
    "name": "ipython",
    "version": 3
   },
   "file_extension": ".py",
   "mimetype": "text/x-python",
   "name": "python",
   "nbconvert_exporter": "python",
   "pygments_lexer": "ipython3",
   "version": "3.9.7"
  }
 },
 "nbformat": 4,
 "nbformat_minor": 5
}
