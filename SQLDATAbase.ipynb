{
 "cells": [
  {
   "cell_type": "markdown",
   "id": "fa5fa1f7-4953-47b5-a25f-8fb74762ae2e",
   "metadata": {},
   "source": [
    "# SQLite database"
   ]
  },
  {
   "cell_type": "code",
   "execution_count": 20,
   "id": "3ee896a2-c8ed-4b76-94c2-05f04fdc21df",
   "metadata": {},
   "outputs": [],
   "source": [
    "import sqlite3\n",
    "import pandas as pd"
   ]
  },
  {
   "cell_type": "code",
   "execution_count": 3,
   "id": "e1fe58c4-3996-4698-abc5-bdec52c42477",
   "metadata": {},
   "outputs": [],
   "source": []
  },
  {
   "cell_type": "markdown",
   "id": "73cb22af-bdf2-49bc-b0ef-f46a2f021579",
   "metadata": {},
   "source": [
    "Create table Wheat Spotprice"
   ]
  },
  {
   "cell_type": "code",
   "execution_count": 6,
   "id": "48d58bc4-1d87-4efa-be46-98c7cad0ce39",
   "metadata": {},
   "outputs": [],
   "source": [
    "con = sqlite3.connect('price_data.db')\n",
    "cur = con.cursor()\n",
    "cur.execute('''\n",
    "CREATE TABLE If NOT EXISTS wheat_spotprice\n",
    "    (date DATE unique,\n",
    "    price real\n",
    "    )\n",
    "''')\n",
    "con.commit()\n",
    "con.close()"
   ]
  },
  {
   "cell_type": "markdown",
   "id": "6edf0c64-0da3-41f5-b9ac-619c769e5cc2",
   "metadata": {},
   "source": [
    "Populate table Wheat Spotprice"
   ]
  },
  {
   "cell_type": "markdown",
   "id": "eccc0b9c-e7f0-457b-adef-69c888050c73",
   "metadata": {},
   "source": [
    "Check result:"
   ]
  },
  {
   "cell_type": "code",
   "execution_count": 25,
   "id": "b5b85c19-c80c-435d-8054-16106fb7059b",
   "metadata": {},
   "outputs": [],
   "source": [
    "def get_wheat_df():\n",
    "    '''returns all entries from wheat_spotprice_table as dataframe'''\n",
    "    con = sqlite3.connect('price_data.db')\n",
    "    wheat_df = pd.read_sql('''\n",
    "    Select * FROM wheat_spotprice''', con,  parse_dates=['date'])\n",
    "    return wheat_df\n"
   ]
  },
  {
   "cell_type": "code",
   "execution_count": 26,
   "id": "cdaffcea-c081-440a-a9a5-bae22ef080fd",
   "metadata": {},
   "outputs": [
    {
     "name": "stdout",
     "output_type": "stream",
     "text": [
      "<class 'pandas.core.frame.DataFrame'>\n",
      "RangeIndex: 213 entries, 0 to 212\n",
      "Data columns (total 2 columns):\n",
      " #   Column  Non-Null Count  Dtype  \n",
      "---  ------  --------------  -----  \n",
      " 0   date    213 non-null    object \n",
      " 1   price   213 non-null    float64\n",
      "dtypes: float64(1), object(1)\n",
      "memory usage: 3.5+ KB\n"
     ]
    }
   ],
   "source": [
    "wheat_df = check_wheat_spotprice()\n",
    "wheat_df.info()"
   ]
  }
 ],
 "metadata": {
  "kernelspec": {
   "display_name": "Python 3 (ipykernel)",
   "language": "python",
   "name": "python3"
  },
  "language_info": {
   "codemirror_mode": {
    "name": "ipython",
    "version": 3
   },
   "file_extension": ".py",
   "mimetype": "text/x-python",
   "name": "python",
   "nbconvert_exporter": "python",
   "pygments_lexer": "ipython3",
   "version": "3.9.7"
  }
 },
 "nbformat": 4,
 "nbformat_minor": 5
}
