{
 "cells": [
  {
   "cell_type": "markdown",
   "id": "fa5fa1f7-4953-47b5-a25f-8fb74762ae2e",
   "metadata": {},
   "source": [
    "# SQLite database"
   ]
  },
  {
   "cell_type": "code",
   "execution_count": 1,
   "id": "3ee896a2-c8ed-4b76-94c2-05f04fdc21df",
   "metadata": {},
   "outputs": [],
   "source": [
    "import sqlite3\n",
    "import pandas as pd\n",
    "import os.path"
   ]
  },
  {
   "cell_type": "markdown",
   "id": "73cb22af-bdf2-49bc-b0ef-f46a2f021579",
   "metadata": {},
   "source": [
    "Create Database structure"
   ]
  },
  {
   "cell_type": "code",
   "execution_count": 4,
   "id": "48d58bc4-1d87-4efa-be46-98c7cad0ce39",
   "metadata": {},
   "outputs": [],
   "source": [
    "def init_db():\n",
    "    con = sqlite3.connect('contrcalc.db')\n",
    "    cur = con.cursor()\n",
    "    cur.execute('''\n",
    "    CREATE TABLE IF NOT EXISTS price_table(\n",
    "        price_id INTEGER PRIMARY KEY,\n",
    "        commodity_id INTEGER NOT NULL,\n",
    "        date_fullfillment DATE NOT NULL,\n",
    "        date_price DATE NOT NULL,\n",
    "        price REAL NOT NULL,\n",
    "        currency TEXT NOT NULL\n",
    "        );\n",
    "    ''')    \n",
    "    con.commit() \n",
    "    cur.execute('''    \n",
    "    CREATE TABLE IF NOT EXISTS price_commodities(\n",
    "        price_id INTEGER,\n",
    "        commodity_id INTEGER,\n",
    "        PRIMARY KEY (price_id),\n",
    "        FOREIGN KEY (price_id)\n",
    "            REFERENCES price_table (price_id)\n",
    "                ON DELETE CASCADE\n",
    "                ON UPDATE NO ACTION,\n",
    "        FOREIGN KEY (commodity_id)\n",
    "            REFERENCES commodities (commodity_id)\n",
    "                ON DELETE CASCADE\n",
    "                ON UPDATE NO ACTION\n",
    "        );  \n",
    "    ''')    \n",
    "    \n",
    "    cur.execute('''\n",
    "    CREATE TABLE IF NOT EXISTS contracts\n",
    "        (contract_id INTEGER PRIMARY KEY UNIQUE,\n",
    "        commodity_id INTEGER NOT NULL,\n",
    "        price_per_to REAL NOT NULL,\n",
    "        amount_to REAL NOT NULL,\n",
    "        date_closure DATE NOT NULL,\n",
    "        date_fullfillment DATE NOT NULL\n",
    "        );\n",
    "    ''')\n",
    "    con.commit()  \n",
    "    \n",
    "    cur.execute('''\n",
    "    CREATE TABLE IF NOT EXISTS contracts_commodities(\n",
    "        contract_id INTEGER,\n",
    "        commodity_id INTEGER,\n",
    "        PRIMARY KEY (contract_id, commodity_id),\n",
    "        FOREIGN KEY (contract_id)\n",
    "            REFERENCES contracts (contract_id)\n",
    "                ON DELETE CASCADE\n",
    "                ON UPDATE NO ACTION,\n",
    "        FOREIGN KEY (commodity_id)\n",
    "            REFERENCES commodities (commodity_id)\n",
    "                ON DELETE CASCADE\n",
    "                ON UPDATE NO ACTION\n",
    "    );\n",
    "    ''')\n",
    "    con.commit()\n",
    "    \n",
    "    cur.execute('''\n",
    "    CREATE TABLE IF NOT EXISTS commodities(\n",
    "        commodity_id INTEGER PRIMARY KEY UNIQUE,\n",
    "        name TEXT UNIQUE NOT NULL,\n",
    "        harvest_month INTEGER NOT NULL,\n",
    "        sowing_month INTEGER NOT NULL,\n",
    "        reference_harvest_to REAL NOT NULL,\n",
    "        estimate_harvest_to REAL\n",
    "    );\n",
    "    \n",
    "    ''')\n",
    "    con.commit()\n",
    "    con.close()\n",
    "    return"
   ]
  },
  {
   "cell_type": "code",
   "execution_count": 5,
   "id": "10cb65d1-6db3-43f3-9526-aa5bd3be6ec5",
   "metadata": {},
   "outputs": [],
   "source": [
    "init_db()"
   ]
  },
  {
   "cell_type": "markdown",
   "id": "f1a359de-1ce3-4306-9f54-a67c3ed9c248",
   "metadata": {},
   "source": [
    "Show DATABASE Structures:"
   ]
  },
  {
   "cell_type": "code",
   "execution_count": 6,
   "id": "eaa216b8-6ae0-427d-85fa-1eec5fb4b657",
   "metadata": {},
   "outputs": [],
   "source": [
    "def show_db_tables():\n",
    "    con = sqlite3.connect('contrcalc.db')\n",
    "    cursor = con.cursor()\n",
    "    cursor.execute(\"SELECT name FROM sqlite_master WHERE type='table';\")\n",
    "    table_list = cursor.fetchall()\n",
    "    con.close()\n",
    "    return table_list"
   ]
  },
  {
   "cell_type": "code",
   "execution_count": 7,
   "id": "e7ea349e-f2f1-4339-b376-5baef6de6b9c",
   "metadata": {},
   "outputs": [
    {
     "data": {
      "text/plain": [
       "[('price_table',),\n",
       " ('price_commodities',),\n",
       " ('contracts',),\n",
       " ('contracts_commodities',),\n",
       " ('commodities',)]"
      ]
     },
     "execution_count": 7,
     "metadata": {},
     "output_type": "execute_result"
    }
   ],
   "source": [
    "table_list = show_db_tables()\n",
    "table_list"
   ]
  },
  {
   "cell_type": "markdown",
   "id": "31a8f32a-e81d-4241-98b7-56a6ddf19001",
   "metadata": {},
   "source": [
    "Populate Commodities Table"
   ]
  },
  {
   "cell_type": "code",
   "execution_count": 11,
   "id": "6c2e25f1-9533-4d9d-bf56-ddc45a0f57aa",
   "metadata": {},
   "outputs": [],
   "source": [
    "def populate_commodities():\n",
    "    commodities = [ 'Barley', 'Wheat', 'Corn', 'Rapeseed']\n",
    "    harvest_month= [6, 8, 9, 7]\n",
    "    sowing_month= [8, 9, 4, 8]\n",
    "    reference_harvest_to = [7.88, 6.4, 8.2, 3.69]\n",
    "    con = sqlite3.connect('contrcalc.db')\n",
    "    cursor = con.cursor()\n",
    "    for i in range(0, len(commodities)):\n",
    "        cursor.execute(\"\"\"\n",
    "    INSERT INTO commodities (name, harvest_month, sowing_month, reference_harvest_to)\n",
    "        VALUES(?,?,?,?)\n",
    "        \"\"\", (commodities[i], harvest_month[i], sowing_month[i], reference_harvest_to[i]))\n",
    "    con.commit()\n",
    "    con.close()\n",
    "    return\n",
    "populate_commodities()"
   ]
  },
  {
   "cell_type": "code",
   "execution_count": 9,
   "id": "e95e8190-f963-4600-8360-2797a5cbe291",
   "metadata": {
    "tags": []
   },
   "outputs": [],
   "source": [
    "def get_table_df(table_name, database_path='contrcalc.db'):\n",
    "    \"\"\"Returns (table, connection). table is a pandas DataFrame.\"\"\"\n",
    "    #BASE_DIR = os.path.dirname(os.path.abspath(__file__))\n",
    "    #db_path = os.path.join(BASE_DIR, database_path)\n",
    "    con = sqlite3.connect(database_path)\n",
    "    try:\n",
    "        df = pd.read_sql(\"SELECT * FROM %s\" %table_name, con)\n",
    "        #  print(\"\\nLoading %s table from SQLite3 database.\" % table_name)\n",
    "    except DatabaseError as e:\n",
    "        if 'no such table' in e.args[0]:\n",
    "            print(\"\\nNo such table: %s\" % table_name)\n",
    "            print(\"Create the table before loading it. \" +\n",
    "                  \"Consider using the create_sqlite_table function\")\n",
    "            raise DatabaseError\n",
    "        else:\n",
    "            print(e)\n",
    "            raise Exception(\"Failed to create %s table. Unknown error.\" %\n",
    "                            table_name)\n",
    "    return df, con"
   ]
  },
  {
   "cell_type": "code",
   "execution_count": 10,
   "id": "af21cf8f-8abf-476b-9385-e5974d09d82c",
   "metadata": {},
   "outputs": [],
   "source": [
    "con = sqlite3.connect('contrcalc.db')\n",
    "con.execute(\"\"\"\n",
    "ALTER TABLE price_table ADD COLUMN date_fullfillment1 DATE NOT NULL\n",
    "\"\"\")\n",
    "con.execute(\"\"\"\n",
    "ALTER TABLE price_table ADD COLUMN date_fullfillment1 DATE NOT NULL\n",
    "\"\"\")\n",
    "con.commit()"
   ]
  },
  {
   "cell_type": "code",
   "execution_count": 12,
   "id": "aa5da8c0-0958-446d-bef5-295fa255314b",
   "metadata": {},
   "outputs": [
    {
     "data": {
      "text/plain": [
       "(   commodity_id      name  harvest_month  sowing_month  reference_harvest_to  \\\n",
       " 0             1    Barley              6             8                  7.88   \n",
       " 1             2     Wheat              8             9                  6.40   \n",
       " 2             3      Corn              9             4                  8.20   \n",
       " 3             4  Rapeseed              7             8                  3.69   \n",
       " \n",
       "   estimate_harvest_to  \n",
       " 0                None  \n",
       " 1                None  \n",
       " 2                None  \n",
       " 3                None  ,\n",
       " <sqlite3.Connection at 0x220288fa990>)"
      ]
     },
     "execution_count": 12,
     "metadata": {},
     "output_type": "execute_result"
    }
   ],
   "source": [
    "commodities_df = get_table_df('commodities')\n",
    "commodities_df"
   ]
  },
  {
   "cell_type": "code",
   "execution_count": 13,
   "id": "4aac2d68-3749-4348-9cf6-98e9620e620c",
   "metadata": {},
   "outputs": [
    {
     "ename": "DatabaseError",
     "evalue": "Execution failed on sql 'price_table': near \"price_table\": syntax error",
     "output_type": "error",
     "traceback": [
      "\u001b[1;31m---------------------------------------------------------------------------\u001b[0m",
      "\u001b[1;31mOperationalError\u001b[0m                          Traceback (most recent call last)",
      "File \u001b[1;32m~\\anaconda3\\envs\\DA_Env\\lib\\site-packages\\pandas\\io\\sql.py:2020\u001b[0m, in \u001b[0;36mSQLiteDatabase.execute\u001b[1;34m(self, *args, **kwargs)\u001b[0m\n\u001b[0;32m   2019\u001b[0m \u001b[38;5;28;01mtry\u001b[39;00m:\n\u001b[1;32m-> 2020\u001b[0m     cur\u001b[38;5;241m.\u001b[39mexecute(\u001b[38;5;241m*\u001b[39margs, \u001b[38;5;241m*\u001b[39m\u001b[38;5;241m*\u001b[39mkwargs)\n\u001b[0;32m   2021\u001b[0m     \u001b[38;5;28;01mreturn\u001b[39;00m cur\n",
      "\u001b[1;31mOperationalError\u001b[0m: near \"price_table\": syntax error",
      "\nThe above exception was the direct cause of the following exception:\n",
      "\u001b[1;31mDatabaseError\u001b[0m                             Traceback (most recent call last)",
      "Input \u001b[1;32mIn [13]\u001b[0m, in \u001b[0;36m<cell line: 2>\u001b[1;34m()\u001b[0m\n\u001b[0;32m      1\u001b[0m con \u001b[38;5;241m=\u001b[39m sqlite3\u001b[38;5;241m.\u001b[39mconnect(\u001b[38;5;124m'\u001b[39m\u001b[38;5;124mcontrcalc.db\u001b[39m\u001b[38;5;124m'\u001b[39m)\n\u001b[1;32m----> 2\u001b[0m \u001b[43mpd\u001b[49m\u001b[38;5;241;43m.\u001b[39;49m\u001b[43mread_sql\u001b[49m\u001b[43m(\u001b[49m\u001b[38;5;124;43m'\u001b[39;49m\u001b[38;5;124;43mprice_table\u001b[39;49m\u001b[38;5;124;43m'\u001b[39;49m\u001b[43m,\u001b[49m\u001b[43m \u001b[49m\u001b[43mcon\u001b[49m\u001b[43m)\u001b[49m\n",
      "File \u001b[1;32m~\\anaconda3\\envs\\DA_Env\\lib\\site-packages\\pandas\\io\\sql.py:566\u001b[0m, in \u001b[0;36mread_sql\u001b[1;34m(sql, con, index_col, coerce_float, params, parse_dates, columns, chunksize)\u001b[0m\n\u001b[0;32m    563\u001b[0m pandas_sql \u001b[38;5;241m=\u001b[39m pandasSQL_builder(con)\n\u001b[0;32m    565\u001b[0m \u001b[38;5;28;01mif\u001b[39;00m \u001b[38;5;28misinstance\u001b[39m(pandas_sql, SQLiteDatabase):\n\u001b[1;32m--> 566\u001b[0m     \u001b[38;5;28;01mreturn\u001b[39;00m \u001b[43mpandas_sql\u001b[49m\u001b[38;5;241;43m.\u001b[39;49m\u001b[43mread_query\u001b[49m\u001b[43m(\u001b[49m\n\u001b[0;32m    567\u001b[0m \u001b[43m        \u001b[49m\u001b[43msql\u001b[49m\u001b[43m,\u001b[49m\n\u001b[0;32m    568\u001b[0m \u001b[43m        \u001b[49m\u001b[43mindex_col\u001b[49m\u001b[38;5;241;43m=\u001b[39;49m\u001b[43mindex_col\u001b[49m\u001b[43m,\u001b[49m\n\u001b[0;32m    569\u001b[0m \u001b[43m        \u001b[49m\u001b[43mparams\u001b[49m\u001b[38;5;241;43m=\u001b[39;49m\u001b[43mparams\u001b[49m\u001b[43m,\u001b[49m\n\u001b[0;32m    570\u001b[0m \u001b[43m        \u001b[49m\u001b[43mcoerce_float\u001b[49m\u001b[38;5;241;43m=\u001b[39;49m\u001b[43mcoerce_float\u001b[49m\u001b[43m,\u001b[49m\n\u001b[0;32m    571\u001b[0m \u001b[43m        \u001b[49m\u001b[43mparse_dates\u001b[49m\u001b[38;5;241;43m=\u001b[39;49m\u001b[43mparse_dates\u001b[49m\u001b[43m,\u001b[49m\n\u001b[0;32m    572\u001b[0m \u001b[43m        \u001b[49m\u001b[43mchunksize\u001b[49m\u001b[38;5;241;43m=\u001b[39;49m\u001b[43mchunksize\u001b[49m\u001b[43m,\u001b[49m\n\u001b[0;32m    573\u001b[0m \u001b[43m    \u001b[49m\u001b[43m)\u001b[49m\n\u001b[0;32m    575\u001b[0m \u001b[38;5;28;01mtry\u001b[39;00m:\n\u001b[0;32m    576\u001b[0m     _is_table_name \u001b[38;5;241m=\u001b[39m pandas_sql\u001b[38;5;241m.\u001b[39mhas_table(sql)\n",
      "File \u001b[1;32m~\\anaconda3\\envs\\DA_Env\\lib\\site-packages\\pandas\\io\\sql.py:2080\u001b[0m, in \u001b[0;36mSQLiteDatabase.read_query\u001b[1;34m(self, sql, index_col, coerce_float, params, parse_dates, chunksize, dtype)\u001b[0m\n\u001b[0;32m   2068\u001b[0m \u001b[38;5;28;01mdef\u001b[39;00m \u001b[38;5;21mread_query\u001b[39m(\n\u001b[0;32m   2069\u001b[0m     \u001b[38;5;28mself\u001b[39m,\n\u001b[0;32m   2070\u001b[0m     sql,\n\u001b[1;32m   (...)\u001b[0m\n\u001b[0;32m   2076\u001b[0m     dtype: DtypeArg \u001b[38;5;241m|\u001b[39m \u001b[38;5;28;01mNone\u001b[39;00m \u001b[38;5;241m=\u001b[39m \u001b[38;5;28;01mNone\u001b[39;00m,\n\u001b[0;32m   2077\u001b[0m ):\n\u001b[0;32m   2079\u001b[0m     args \u001b[38;5;241m=\u001b[39m _convert_params(sql, params)\n\u001b[1;32m-> 2080\u001b[0m     cursor \u001b[38;5;241m=\u001b[39m \u001b[38;5;28;43mself\u001b[39;49m\u001b[38;5;241;43m.\u001b[39;49m\u001b[43mexecute\u001b[49m\u001b[43m(\u001b[49m\u001b[38;5;241;43m*\u001b[39;49m\u001b[43margs\u001b[49m\u001b[43m)\u001b[49m\n\u001b[0;32m   2081\u001b[0m     columns \u001b[38;5;241m=\u001b[39m [col_desc[\u001b[38;5;241m0\u001b[39m] \u001b[38;5;28;01mfor\u001b[39;00m col_desc \u001b[38;5;129;01min\u001b[39;00m cursor\u001b[38;5;241m.\u001b[39mdescription]\n\u001b[0;32m   2083\u001b[0m     \u001b[38;5;28;01mif\u001b[39;00m chunksize \u001b[38;5;129;01mis\u001b[39;00m \u001b[38;5;129;01mnot\u001b[39;00m \u001b[38;5;28;01mNone\u001b[39;00m:\n",
      "File \u001b[1;32m~\\anaconda3\\envs\\DA_Env\\lib\\site-packages\\pandas\\io\\sql.py:2032\u001b[0m, in \u001b[0;36mSQLiteDatabase.execute\u001b[1;34m(self, *args, **kwargs)\u001b[0m\n\u001b[0;32m   2029\u001b[0m     \u001b[38;5;28;01mraise\u001b[39;00m ex \u001b[38;5;28;01mfrom\u001b[39;00m \u001b[38;5;21;01minner_exc\u001b[39;00m\n\u001b[0;32m   2031\u001b[0m ex \u001b[38;5;241m=\u001b[39m DatabaseError(\u001b[38;5;124mf\u001b[39m\u001b[38;5;124m\"\u001b[39m\u001b[38;5;124mExecution failed on sql \u001b[39m\u001b[38;5;124m'\u001b[39m\u001b[38;5;132;01m{\u001b[39;00margs[\u001b[38;5;241m0\u001b[39m]\u001b[38;5;132;01m}\u001b[39;00m\u001b[38;5;124m'\u001b[39m\u001b[38;5;124m: \u001b[39m\u001b[38;5;132;01m{\u001b[39;00mexc\u001b[38;5;132;01m}\u001b[39;00m\u001b[38;5;124m\"\u001b[39m)\n\u001b[1;32m-> 2032\u001b[0m \u001b[38;5;28;01mraise\u001b[39;00m ex \u001b[38;5;28;01mfrom\u001b[39;00m \u001b[38;5;21;01mexc\u001b[39;00m\n",
      "\u001b[1;31mDatabaseError\u001b[0m: Execution failed on sql 'price_table': near \"price_table\": syntax error"
     ]
    }
   ],
   "source": [
    "con = sqlite3.connect('contrcalc.db')\n",
    "pd.read_sql('price_table', con)"
   ]
  }
 ],
 "metadata": {
  "kernelspec": {
   "display_name": "Python 3 (ipykernel)",
   "language": "python",
   "name": "python3"
  },
  "language_info": {
   "codemirror_mode": {
    "name": "ipython",
    "version": 3
   },
   "file_extension": ".py",
   "mimetype": "text/x-python",
   "name": "python",
   "nbconvert_exporter": "python",
   "pygments_lexer": "ipython3",
   "version": "3.9.7"
  }
 },
 "nbformat": 4,
 "nbformat_minor": 5
}
