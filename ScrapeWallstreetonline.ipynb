{
 "cells": [
  {
   "cell_type": "markdown",
   "id": "5492eae5-4318-465d-b554-c33bbdfc312a",
   "metadata": {},
   "source": [
    "# Scrape Wallstreet online"
   ]
  },
  {
   "cell_type": "code",
   "execution_count": 1,
   "id": "00936b8f-179a-4d01-99d0-1742e7514742",
   "metadata": {},
   "outputs": [],
   "source": [
    "from ModulScrapeWallstreet import scrape_futureprice, future_price_to_sql\n",
    "\n"
   ]
  },
  {
   "cell_type": "code",
   "execution_count": 2,
   "id": "6697445f-3b81-4a37-b6ba-e558a61d78ff",
   "metadata": {},
   "outputs": [
    {
     "name": "stderr",
     "output_type": "stream",
     "text": [
      "C:\\Users\\Lenovo\\Documents\\GitHub\\ContractCalculator\\ModulScrapeWallstreet.py:15: GuessedAtParserWarning: No parser was explicitly specified, so I'm using the best available HTML parser for this system (\"lxml\"). This usually isn't a problem, but if you run this code on another system, or in a different virtual environment, it may use a different parser and behave differently.\n",
      "\n",
      "The code that caused this warning is on line 15 of the file C:\\Users\\Lenovo\\Documents\\GitHub\\ContractCalculator\\ModulScrapeWallstreet.py. To get rid of this warning, pass the additional argument 'features=\"lxml\"' to the BeautifulSoup constructor.\n",
      "\n",
      "  soup = BeautifulSoup(page.content, 'html')\n",
      "C:\\Users\\Lenovo\\Documents\\GitHub\\ContractCalculator\\ModulScrapeWallstreet.py:24: FutureWarning: The frame.append method is deprecated and will be removed from pandas in a future version. Use pandas.concat instead.\n",
      "  future_price_today = future_price_today.append(ser, ignore_index=True)\n",
      "C:\\Users\\Lenovo\\Documents\\GitHub\\ContractCalculator\\ModulScrapeWallstreet.py:24: FutureWarning: The frame.append method is deprecated and will be removed from pandas in a future version. Use pandas.concat instead.\n",
      "  future_price_today = future_price_today.append(ser, ignore_index=True)\n",
      "C:\\Users\\Lenovo\\Documents\\GitHub\\ContractCalculator\\ModulScrapeWallstreet.py:24: FutureWarning: The frame.append method is deprecated and will be removed from pandas in a future version. Use pandas.concat instead.\n",
      "  future_price_today = future_price_today.append(ser, ignore_index=True)\n",
      "C:\\Users\\Lenovo\\Documents\\GitHub\\ContractCalculator\\ModulScrapeWallstreet.py:24: FutureWarning: The frame.append method is deprecated and will be removed from pandas in a future version. Use pandas.concat instead.\n",
      "  future_price_today = future_price_today.append(ser, ignore_index=True)\n",
      "C:\\Users\\Lenovo\\Documents\\GitHub\\ContractCalculator\\ModulScrapeWallstreet.py:24: FutureWarning: The frame.append method is deprecated and will be removed from pandas in a future version. Use pandas.concat instead.\n",
      "  future_price_today = future_price_today.append(ser, ignore_index=True)\n",
      "C:\\Users\\Lenovo\\Documents\\GitHub\\ContractCalculator\\ModulScrapeWallstreet.py:24: FutureWarning: The frame.append method is deprecated and will be removed from pandas in a future version. Use pandas.concat instead.\n",
      "  future_price_today = future_price_today.append(ser, ignore_index=True)\n",
      "C:\\Users\\Lenovo\\Documents\\GitHub\\ContractCalculator\\ModulScrapeWallstreet.py:24: FutureWarning: The frame.append method is deprecated and will be removed from pandas in a future version. Use pandas.concat instead.\n",
      "  future_price_today = future_price_today.append(ser, ignore_index=True)\n",
      "C:\\Users\\Lenovo\\Documents\\GitHub\\ContractCalculator\\ModulScrapeWallstreet.py:24: FutureWarning: The frame.append method is deprecated and will be removed from pandas in a future version. Use pandas.concat instead.\n",
      "  future_price_today = future_price_today.append(ser, ignore_index=True)\n",
      "C:\\Users\\Lenovo\\Documents\\GitHub\\ContractCalculator\\ModulScrapeWallstreet.py:24: FutureWarning: The frame.append method is deprecated and will be removed from pandas in a future version. Use pandas.concat instead.\n",
      "  future_price_today = future_price_today.append(ser, ignore_index=True)\n",
      "C:\\Users\\Lenovo\\Documents\\GitHub\\ContractCalculator\\ModulScrapeWallstreet.py:24: FutureWarning: The frame.append method is deprecated and will be removed from pandas in a future version. Use pandas.concat instead.\n",
      "  future_price_today = future_price_today.append(ser, ignore_index=True)\n"
     ]
    }
   ],
   "source": [
    "future_df = scrape_futureprice()"
   ]
  },
  {
   "cell_type": "code",
   "execution_count": 8,
   "id": "f6007000-ddc1-411c-ba57-29c1a3a851e8",
   "metadata": {},
   "outputs": [
    {
     "data": {
      "text/html": [
       "<div>\n",
       "<style scoped>\n",
       "    .dataframe tbody tr th:only-of-type {\n",
       "        vertical-align: middle;\n",
       "    }\n",
       "\n",
       "    .dataframe tbody tr th {\n",
       "        vertical-align: top;\n",
       "    }\n",
       "\n",
       "    .dataframe thead th {\n",
       "        text-align: right;\n",
       "    }\n",
       "</style>\n",
       "<table border=\"1\" class=\"dataframe\">\n",
       "  <thead>\n",
       "    <tr style=\"text-align: right;\">\n",
       "      <th></th>\n",
       "      <th>kontrakt</th>\n",
       "      <th>price</th>\n",
       "      <th>absolut_inc</th>\n",
       "      <th>perc_inc</th>\n",
       "      <th>date_fullfillment</th>\n",
       "      <th>date_price</th>\n",
       "      <th>currency</th>\n",
       "      <th>commodity_id</th>\n",
       "    </tr>\n",
       "  </thead>\n",
       "  <tbody>\n",
       "    <tr>\n",
       "      <th>0</th>\n",
       "      <td>Mai 2022</td>\n",
       "      <td>361.00</td>\n",
       "      <td>9,20</td>\n",
       "      <td>+2,62 %</td>\n",
       "      <td>2022-05-23</td>\n",
       "      <td>2022-05-16</td>\n",
       "      <td>GBP</td>\n",
       "      <td>2</td>\n",
       "    </tr>\n",
       "    <tr>\n",
       "      <th>1</th>\n",
       "      <td>Jul 2022</td>\n",
       "      <td>360.05</td>\n",
       "      <td>12,45</td>\n",
       "      <td>+3,58 %</td>\n",
       "      <td>2022-07-07</td>\n",
       "      <td>2022-05-16</td>\n",
       "      <td>GBP</td>\n",
       "      <td>2</td>\n",
       "    </tr>\n",
       "    <tr>\n",
       "      <th>2</th>\n",
       "      <td>Nov 2022</td>\n",
       "      <td>352.00</td>\n",
       "      <td>15,70</td>\n",
       "      <td>+4,67 %</td>\n",
       "      <td>2022-11-23</td>\n",
       "      <td>2022-05-16</td>\n",
       "      <td>GBP</td>\n",
       "      <td>2</td>\n",
       "    </tr>\n",
       "    <tr>\n",
       "      <th>3</th>\n",
       "      <td>Jan 2023</td>\n",
       "      <td>354.00</td>\n",
       "      <td>15,30</td>\n",
       "      <td>+4,52 %</td>\n",
       "      <td>2023-01-23</td>\n",
       "      <td>2022-05-16</td>\n",
       "      <td>GBP</td>\n",
       "      <td>2</td>\n",
       "    </tr>\n",
       "    <tr>\n",
       "      <th>4</th>\n",
       "      <td>Mär 2023</td>\n",
       "      <td>355.30</td>\n",
       "      <td>14,90</td>\n",
       "      <td>+4,38 %</td>\n",
       "      <td>2023-03-23</td>\n",
       "      <td>2022-05-16</td>\n",
       "      <td>GBP</td>\n",
       "      <td>2</td>\n",
       "    </tr>\n",
       "    <tr>\n",
       "      <th>5</th>\n",
       "      <td>Mai 2023</td>\n",
       "      <td>356.80</td>\n",
       "      <td>14,50</td>\n",
       "      <td>+4,24 %</td>\n",
       "      <td>2023-05-23</td>\n",
       "      <td>2022-05-16</td>\n",
       "      <td>GBP</td>\n",
       "      <td>2</td>\n",
       "    </tr>\n",
       "    <tr>\n",
       "      <th>6</th>\n",
       "      <td>Jul 2023</td>\n",
       "      <td>327.10</td>\n",
       "      <td>10,25</td>\n",
       "      <td>+3,23 %</td>\n",
       "      <td>2023-07-07</td>\n",
       "      <td>2022-05-16</td>\n",
       "      <td>GBP</td>\n",
       "      <td>2</td>\n",
       "    </tr>\n",
       "    <tr>\n",
       "      <th>7</th>\n",
       "      <td>Nov 2023</td>\n",
       "      <td>292.80</td>\n",
       "      <td>6,00</td>\n",
       "      <td>+2,09 %</td>\n",
       "      <td>2023-11-23</td>\n",
       "      <td>2022-05-16</td>\n",
       "      <td>GBP</td>\n",
       "      <td>2</td>\n",
       "    </tr>\n",
       "    <tr>\n",
       "      <th>8</th>\n",
       "      <td>Jan 2024</td>\n",
       "      <td>293.75</td>\n",
       "      <td>6,00</td>\n",
       "      <td>+2,09 %</td>\n",
       "      <td>2024-01-23</td>\n",
       "      <td>2022-05-16</td>\n",
       "      <td>GBP</td>\n",
       "      <td>2</td>\n",
       "    </tr>\n",
       "    <tr>\n",
       "      <th>9</th>\n",
       "      <td>Mär 2024</td>\n",
       "      <td>295.25</td>\n",
       "      <td>6,00</td>\n",
       "      <td>+2,07 %</td>\n",
       "      <td>2024-03-22</td>\n",
       "      <td>2022-05-16</td>\n",
       "      <td>GBP</td>\n",
       "      <td>2</td>\n",
       "    </tr>\n",
       "  </tbody>\n",
       "</table>\n",
       "</div>"
      ],
      "text/plain": [
       "   kontrakt   price absolut_inc perc_inc date_fullfillment date_price  \\\n",
       "0  Mai 2022  361.00        9,20  +2,62 %        2022-05-23 2022-05-16   \n",
       "1  Jul 2022  360.05       12,45  +3,58 %        2022-07-07 2022-05-16   \n",
       "2  Nov 2022  352.00       15,70  +4,67 %        2022-11-23 2022-05-16   \n",
       "3  Jan 2023  354.00       15,30  +4,52 %        2023-01-23 2022-05-16   \n",
       "4  Mär 2023  355.30       14,90  +4,38 %        2023-03-23 2022-05-16   \n",
       "5  Mai 2023  356.80       14,50  +4,24 %        2023-05-23 2022-05-16   \n",
       "6  Jul 2023  327.10       10,25  +3,23 %        2023-07-07 2022-05-16   \n",
       "7  Nov 2023  292.80        6,00  +2,09 %        2023-11-23 2022-05-16   \n",
       "8  Jan 2024  293.75        6,00  +2,09 %        2024-01-23 2022-05-16   \n",
       "9  Mär 2024  295.25        6,00  +2,07 %        2024-03-22 2022-05-16   \n",
       "\n",
       "  currency  commodity_id  \n",
       "0      GBP             2  \n",
       "1      GBP             2  \n",
       "2      GBP             2  \n",
       "3      GBP             2  \n",
       "4      GBP             2  \n",
       "5      GBP             2  \n",
       "6      GBP             2  \n",
       "7      GBP             2  \n",
       "8      GBP             2  \n",
       "9      GBP             2  "
      ]
     },
     "execution_count": 8,
     "metadata": {},
     "output_type": "execute_result"
    }
   ],
   "source": [
    "future_df"
   ]
  },
  {
   "cell_type": "code",
   "execution_count": 4,
   "id": "ccaf27f3-c0cd-4e62-9908-5dbf4459c268",
   "metadata": {},
   "outputs": [
    {
     "name": "stdout",
     "output_type": "stream",
     "text": [
      "<class 'pandas.core.frame.DataFrame'>\n",
      "RangeIndex: 10 entries, 0 to 9\n",
      "Data columns (total 8 columns):\n",
      " #   Column             Non-Null Count  Dtype         \n",
      "---  ------             --------------  -----         \n",
      " 0   kontrakt           10 non-null     object        \n",
      " 1   price              10 non-null     float64       \n",
      " 2   absolut_inc        10 non-null     object        \n",
      " 3   perc_inc           10 non-null     object        \n",
      " 4   date_fullfillment  10 non-null     datetime64[ns]\n",
      " 5   date_price         10 non-null     datetime64[ns]\n",
      " 6   currency           10 non-null     object        \n",
      " 7   commodity_id       10 non-null     int64         \n",
      "dtypes: datetime64[ns](2), float64(1), int64(1), object(4)\n",
      "memory usage: 768.0+ bytes\n"
     ]
    }
   ],
   "source": [
    "future_df.info()"
   ]
  },
  {
   "cell_type": "code",
   "execution_count": 10,
   "id": "843cd714-5cc0-48a2-b1be-256860fb3fef",
   "metadata": {},
   "outputs": [],
   "source": [
    "tosql_df = future_df[['commodity_id', 'date_fullfillment', 'date_price', 'price', 'currency']]"
   ]
  },
  {
   "cell_type": "code",
   "execution_count": 14,
   "id": "f5b7d72d-132b-4c38-a35b-eb13e5885f7b",
   "metadata": {},
   "outputs": [
    {
     "ename": "OperationalError",
     "evalue": "database is locked",
     "output_type": "error",
     "traceback": [
      "\u001b[1;31m---------------------------------------------------------------------------\u001b[0m",
      "\u001b[1;31mOperationalError\u001b[0m                          Traceback (most recent call last)",
      "Input \u001b[1;32mIn [14]\u001b[0m, in \u001b[0;36m<cell line: 6>\u001b[1;34m()\u001b[0m\n\u001b[0;32m      4\u001b[0m     future_price_today\u001b[38;5;241m.\u001b[39mto_sql(\u001b[38;5;124m'\u001b[39m\u001b[38;5;124mprice_table\u001b[39m\u001b[38;5;124m'\u001b[39m, con, if_exists\u001b[38;5;241m=\u001b[39m\u001b[38;5;124m'\u001b[39m\u001b[38;5;124mappend\u001b[39m\u001b[38;5;124m'\u001b[39m, index\u001b[38;5;241m=\u001b[39m\u001b[38;5;28;01mFalse\u001b[39;00m)\n\u001b[0;32m      5\u001b[0m     \u001b[38;5;28;01mreturn\u001b[39;00m\n\u001b[1;32m----> 6\u001b[0m \u001b[43mfuture_price_to_sql\u001b[49m\u001b[43m(\u001b[49m\u001b[43mtosql_df\u001b[49m\u001b[43m)\u001b[49m\n",
      "Input \u001b[1;32mIn [14]\u001b[0m, in \u001b[0;36mfuture_price_to_sql\u001b[1;34m(future_price_today)\u001b[0m\n\u001b[0;32m      2\u001b[0m \u001b[38;5;28;01mdef\u001b[39;00m \u001b[38;5;21mfuture_price_to_sql\u001b[39m(future_price_today):\n\u001b[0;32m      3\u001b[0m     con \u001b[38;5;241m=\u001b[39m sqlite3\u001b[38;5;241m.\u001b[39mconnect(\u001b[38;5;124m'\u001b[39m\u001b[38;5;124mcontrcalc.db\u001b[39m\u001b[38;5;124m'\u001b[39m) \n\u001b[1;32m----> 4\u001b[0m     \u001b[43mfuture_price_today\u001b[49m\u001b[38;5;241;43m.\u001b[39;49m\u001b[43mto_sql\u001b[49m\u001b[43m(\u001b[49m\u001b[38;5;124;43m'\u001b[39;49m\u001b[38;5;124;43mprice_table\u001b[39;49m\u001b[38;5;124;43m'\u001b[39;49m\u001b[43m,\u001b[49m\u001b[43m \u001b[49m\u001b[43mcon\u001b[49m\u001b[43m,\u001b[49m\u001b[43m \u001b[49m\u001b[43mif_exists\u001b[49m\u001b[38;5;241;43m=\u001b[39;49m\u001b[38;5;124;43m'\u001b[39;49m\u001b[38;5;124;43mappend\u001b[39;49m\u001b[38;5;124;43m'\u001b[39;49m\u001b[43m,\u001b[49m\u001b[43m \u001b[49m\u001b[43mindex\u001b[49m\u001b[38;5;241;43m=\u001b[39;49m\u001b[38;5;28;43;01mFalse\u001b[39;49;00m\u001b[43m)\u001b[49m\n\u001b[0;32m      5\u001b[0m     \u001b[38;5;28;01mreturn\u001b[39;00m\n",
      "File \u001b[1;32m~\\anaconda3\\envs\\DA_Env\\lib\\site-packages\\pandas\\core\\generic.py:2963\u001b[0m, in \u001b[0;36mNDFrame.to_sql\u001b[1;34m(self, name, con, schema, if_exists, index, index_label, chunksize, dtype, method)\u001b[0m\n\u001b[0;32m   2806\u001b[0m \u001b[38;5;124;03m\"\"\"\u001b[39;00m\n\u001b[0;32m   2807\u001b[0m \u001b[38;5;124;03mWrite records stored in a DataFrame to a SQL database.\u001b[39;00m\n\u001b[0;32m   2808\u001b[0m \n\u001b[1;32m   (...)\u001b[0m\n\u001b[0;32m   2959\u001b[0m \u001b[38;5;124;03m[(1,), (None,), (2,)]\u001b[39;00m\n\u001b[0;32m   2960\u001b[0m \u001b[38;5;124;03m\"\"\"\u001b[39;00m  \u001b[38;5;66;03m# noqa:E501\u001b[39;00m\n\u001b[0;32m   2961\u001b[0m \u001b[38;5;28;01mfrom\u001b[39;00m \u001b[38;5;21;01mpandas\u001b[39;00m\u001b[38;5;21;01m.\u001b[39;00m\u001b[38;5;21;01mio\u001b[39;00m \u001b[38;5;28;01mimport\u001b[39;00m sql\n\u001b[1;32m-> 2963\u001b[0m \u001b[38;5;28;01mreturn\u001b[39;00m \u001b[43msql\u001b[49m\u001b[38;5;241;43m.\u001b[39;49m\u001b[43mto_sql\u001b[49m\u001b[43m(\u001b[49m\n\u001b[0;32m   2964\u001b[0m \u001b[43m    \u001b[49m\u001b[38;5;28;43mself\u001b[39;49m\u001b[43m,\u001b[49m\n\u001b[0;32m   2965\u001b[0m \u001b[43m    \u001b[49m\u001b[43mname\u001b[49m\u001b[43m,\u001b[49m\n\u001b[0;32m   2966\u001b[0m \u001b[43m    \u001b[49m\u001b[43mcon\u001b[49m\u001b[43m,\u001b[49m\n\u001b[0;32m   2967\u001b[0m \u001b[43m    \u001b[49m\u001b[43mschema\u001b[49m\u001b[38;5;241;43m=\u001b[39;49m\u001b[43mschema\u001b[49m\u001b[43m,\u001b[49m\n\u001b[0;32m   2968\u001b[0m \u001b[43m    \u001b[49m\u001b[43mif_exists\u001b[49m\u001b[38;5;241;43m=\u001b[39;49m\u001b[43mif_exists\u001b[49m\u001b[43m,\u001b[49m\n\u001b[0;32m   2969\u001b[0m \u001b[43m    \u001b[49m\u001b[43mindex\u001b[49m\u001b[38;5;241;43m=\u001b[39;49m\u001b[43mindex\u001b[49m\u001b[43m,\u001b[49m\n\u001b[0;32m   2970\u001b[0m \u001b[43m    \u001b[49m\u001b[43mindex_label\u001b[49m\u001b[38;5;241;43m=\u001b[39;49m\u001b[43mindex_label\u001b[49m\u001b[43m,\u001b[49m\n\u001b[0;32m   2971\u001b[0m \u001b[43m    \u001b[49m\u001b[43mchunksize\u001b[49m\u001b[38;5;241;43m=\u001b[39;49m\u001b[43mchunksize\u001b[49m\u001b[43m,\u001b[49m\n\u001b[0;32m   2972\u001b[0m \u001b[43m    \u001b[49m\u001b[43mdtype\u001b[49m\u001b[38;5;241;43m=\u001b[39;49m\u001b[43mdtype\u001b[49m\u001b[43m,\u001b[49m\n\u001b[0;32m   2973\u001b[0m \u001b[43m    \u001b[49m\u001b[43mmethod\u001b[49m\u001b[38;5;241;43m=\u001b[39;49m\u001b[43mmethod\u001b[49m\u001b[43m,\u001b[49m\n\u001b[0;32m   2974\u001b[0m \u001b[43m\u001b[49m\u001b[43m)\u001b[49m\n",
      "File \u001b[1;32m~\\anaconda3\\envs\\DA_Env\\lib\\site-packages\\pandas\\io\\sql.py:697\u001b[0m, in \u001b[0;36mto_sql\u001b[1;34m(frame, name, con, schema, if_exists, index, index_label, chunksize, dtype, method, engine, **engine_kwargs)\u001b[0m\n\u001b[0;32m    692\u001b[0m \u001b[38;5;28;01melif\u001b[39;00m \u001b[38;5;129;01mnot\u001b[39;00m \u001b[38;5;28misinstance\u001b[39m(frame, DataFrame):\n\u001b[0;32m    693\u001b[0m     \u001b[38;5;28;01mraise\u001b[39;00m \u001b[38;5;167;01mNotImplementedError\u001b[39;00m(\n\u001b[0;32m    694\u001b[0m         \u001b[38;5;124m\"\u001b[39m\u001b[38;5;124m'\u001b[39m\u001b[38;5;124mframe\u001b[39m\u001b[38;5;124m'\u001b[39m\u001b[38;5;124m argument should be either a Series or a DataFrame\u001b[39m\u001b[38;5;124m\"\u001b[39m\n\u001b[0;32m    695\u001b[0m     )\n\u001b[1;32m--> 697\u001b[0m \u001b[38;5;28;01mreturn\u001b[39;00m pandas_sql\u001b[38;5;241m.\u001b[39mto_sql(\n\u001b[0;32m    698\u001b[0m     frame,\n\u001b[0;32m    699\u001b[0m     name,\n\u001b[0;32m    700\u001b[0m     if_exists\u001b[38;5;241m=\u001b[39mif_exists,\n\u001b[0;32m    701\u001b[0m     index\u001b[38;5;241m=\u001b[39mindex,\n\u001b[0;32m    702\u001b[0m     index_label\u001b[38;5;241m=\u001b[39mindex_label,\n\u001b[0;32m    703\u001b[0m     schema\u001b[38;5;241m=\u001b[39mschema,\n\u001b[0;32m    704\u001b[0m     chunksize\u001b[38;5;241m=\u001b[39mchunksize,\n\u001b[0;32m    705\u001b[0m     dtype\u001b[38;5;241m=\u001b[39mdtype,\n\u001b[0;32m    706\u001b[0m     method\u001b[38;5;241m=\u001b[39mmethod,\n\u001b[0;32m    707\u001b[0m     engine\u001b[38;5;241m=\u001b[39mengine,\n\u001b[0;32m    708\u001b[0m     \u001b[38;5;241m*\u001b[39m\u001b[38;5;241m*\u001b[39mengine_kwargs,\n\u001b[0;32m    709\u001b[0m )\n",
      "File \u001b[1;32m~\\anaconda3\\envs\\DA_Env\\lib\\site-packages\\pandas\\io\\sql.py:2190\u001b[0m, in \u001b[0;36mSQLiteDatabase.to_sql\u001b[1;34m(self, frame, name, if_exists, index, index_label, schema, chunksize, dtype, method, **kwargs)\u001b[0m\n\u001b[0;32m   2180\u001b[0m table \u001b[38;5;241m=\u001b[39m SQLiteTable(\n\u001b[0;32m   2181\u001b[0m     name,\n\u001b[0;32m   2182\u001b[0m     \u001b[38;5;28mself\u001b[39m,\n\u001b[1;32m   (...)\u001b[0m\n\u001b[0;32m   2187\u001b[0m     dtype\u001b[38;5;241m=\u001b[39mdtype,\n\u001b[0;32m   2188\u001b[0m )\n\u001b[0;32m   2189\u001b[0m table\u001b[38;5;241m.\u001b[39mcreate()\n\u001b[1;32m-> 2190\u001b[0m \u001b[38;5;28;01mreturn\u001b[39;00m \u001b[43mtable\u001b[49m\u001b[38;5;241;43m.\u001b[39;49m\u001b[43minsert\u001b[49m\u001b[43m(\u001b[49m\u001b[43mchunksize\u001b[49m\u001b[43m,\u001b[49m\u001b[43m \u001b[49m\u001b[43mmethod\u001b[49m\u001b[43m)\u001b[49m\n",
      "File \u001b[1;32m~\\anaconda3\\envs\\DA_Env\\lib\\site-packages\\pandas\\io\\sql.py:950\u001b[0m, in \u001b[0;36mSQLTable.insert\u001b[1;34m(self, chunksize, method)\u001b[0m\n\u001b[0;32m    947\u001b[0m     \u001b[38;5;28;01mbreak\u001b[39;00m\n\u001b[0;32m    949\u001b[0m chunk_iter \u001b[38;5;241m=\u001b[39m \u001b[38;5;28mzip\u001b[39m(\u001b[38;5;241m*\u001b[39m(arr[start_i:end_i] \u001b[38;5;28;01mfor\u001b[39;00m arr \u001b[38;5;129;01min\u001b[39;00m data_list))\n\u001b[1;32m--> 950\u001b[0m num_inserted \u001b[38;5;241m=\u001b[39m \u001b[43mexec_insert\u001b[49m\u001b[43m(\u001b[49m\u001b[43mconn\u001b[49m\u001b[43m,\u001b[49m\u001b[43m \u001b[49m\u001b[43mkeys\u001b[49m\u001b[43m,\u001b[49m\u001b[43m \u001b[49m\u001b[43mchunk_iter\u001b[49m\u001b[43m)\u001b[49m\n\u001b[0;32m    951\u001b[0m \u001b[38;5;28;01mif\u001b[39;00m num_inserted \u001b[38;5;129;01mis\u001b[39;00m \u001b[38;5;28;01mNone\u001b[39;00m:\n\u001b[0;32m    952\u001b[0m     total_inserted \u001b[38;5;241m=\u001b[39m \u001b[38;5;28;01mNone\u001b[39;00m\n",
      "File \u001b[1;32m~\\anaconda3\\envs\\DA_Env\\lib\\site-packages\\pandas\\io\\sql.py:1896\u001b[0m, in \u001b[0;36mSQLiteTable._execute_insert\u001b[1;34m(self, conn, keys, data_iter)\u001b[0m\n\u001b[0;32m   1894\u001b[0m \u001b[38;5;28;01mdef\u001b[39;00m \u001b[38;5;21m_execute_insert\u001b[39m(\u001b[38;5;28mself\u001b[39m, conn, keys, data_iter) \u001b[38;5;241m-\u001b[39m\u001b[38;5;241m>\u001b[39m \u001b[38;5;28mint\u001b[39m:\n\u001b[0;32m   1895\u001b[0m     data_list \u001b[38;5;241m=\u001b[39m \u001b[38;5;28mlist\u001b[39m(data_iter)\n\u001b[1;32m-> 1896\u001b[0m     \u001b[43mconn\u001b[49m\u001b[38;5;241;43m.\u001b[39;49m\u001b[43mexecutemany\u001b[49m\u001b[43m(\u001b[49m\u001b[38;5;28;43mself\u001b[39;49m\u001b[38;5;241;43m.\u001b[39;49m\u001b[43minsert_statement\u001b[49m\u001b[43m(\u001b[49m\u001b[43mnum_rows\u001b[49m\u001b[38;5;241;43m=\u001b[39;49m\u001b[38;5;241;43m1\u001b[39;49m\u001b[43m)\u001b[49m\u001b[43m,\u001b[49m\u001b[43m \u001b[49m\u001b[43mdata_list\u001b[49m\u001b[43m)\u001b[49m\n\u001b[0;32m   1897\u001b[0m     \u001b[38;5;28;01mreturn\u001b[39;00m conn\u001b[38;5;241m.\u001b[39mrowcount\n",
      "\u001b[1;31mOperationalError\u001b[0m: database is locked"
     ]
    }
   ],
   "source": [
    "import sqlite3\n",
    "def future_price_to_sql(future_price_today):\n",
    "    con = sqlite3.connect('contrcalc.db') \n",
    "    future_price_today.to_sql('price_table', con, if_exists='append', index=False)\n",
    "    return\n",
    "future_price_to_sql(tosql_df)"
   ]
  },
  {
   "cell_type": "code",
   "execution_count": 6,
   "id": "f369aad6-a732-4e7a-835f-d0dbabe39af7",
   "metadata": {},
   "outputs": [],
   "source": [
    "future_df.to_csv('Data/future_df.csv')"
   ]
  }
 ],
 "metadata": {
  "kernelspec": {
   "display_name": "Python 3 (ipykernel)",
   "language": "python",
   "name": "python3"
  },
  "language_info": {
   "codemirror_mode": {
    "name": "ipython",
    "version": 3
   },
   "file_extension": ".py",
   "mimetype": "text/x-python",
   "name": "python",
   "nbconvert_exporter": "python",
   "pygments_lexer": "ipython3",
   "version": "3.9.7"
  }
 },
 "nbformat": 4,
 "nbformat_minor": 5
}
