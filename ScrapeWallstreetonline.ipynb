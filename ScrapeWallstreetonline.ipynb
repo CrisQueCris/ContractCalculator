{
 "cells": [
  {
   "cell_type": "markdown",
   "id": "5492eae5-4318-465d-b554-c33bbdfc312a",
   "metadata": {},
   "source": [
    "# Scrape Wallstreet online"
   ]
  },
  {
   "cell_type": "code",
   "execution_count": 1,
   "id": "00936b8f-179a-4d01-99d0-1742e7514742",
   "metadata": {},
   "outputs": [],
   "source": [
    "from ModulScrapeWallstreet import scrape_futureprice, future_price_to_sql\n"
   ]
  },
  {
   "cell_type": "code",
   "execution_count": 2,
   "id": "6697445f-3b81-4a37-b6ba-e558a61d78ff",
   "metadata": {},
   "outputs": [
    {
     "name": "stderr",
     "output_type": "stream",
     "text": [
      "C:\\Users\\Lenovo\\Documents\\GitHub\\ContractCalculator\\ModulScrapeWallstreet.py:15: GuessedAtParserWarning: No parser was explicitly specified, so I'm using the best available HTML parser for this system (\"lxml\"). This usually isn't a problem, but if you run this code on another system, or in a different virtual environment, it may use a different parser and behave differently.\n",
      "\n",
      "The code that caused this warning is on line 15 of the file C:\\Users\\Lenovo\\Documents\\GitHub\\ContractCalculator\\ModulScrapeWallstreet.py. To get rid of this warning, pass the additional argument 'features=\"lxml\"' to the BeautifulSoup constructor.\n",
      "\n",
      "  soup = BeautifulSoup(page.content, 'html')\n",
      "C:\\Users\\Lenovo\\Documents\\GitHub\\ContractCalculator\\ModulScrapeWallstreet.py:24: FutureWarning: The frame.append method is deprecated and will be removed from pandas in a future version. Use pandas.concat instead.\n",
      "  future_price_today = future_price_today.append(ser, ignore_index=True)\n",
      "C:\\Users\\Lenovo\\Documents\\GitHub\\ContractCalculator\\ModulScrapeWallstreet.py:24: FutureWarning: The frame.append method is deprecated and will be removed from pandas in a future version. Use pandas.concat instead.\n",
      "  future_price_today = future_price_today.append(ser, ignore_index=True)\n",
      "C:\\Users\\Lenovo\\Documents\\GitHub\\ContractCalculator\\ModulScrapeWallstreet.py:24: FutureWarning: The frame.append method is deprecated and will be removed from pandas in a future version. Use pandas.concat instead.\n",
      "  future_price_today = future_price_today.append(ser, ignore_index=True)\n",
      "C:\\Users\\Lenovo\\Documents\\GitHub\\ContractCalculator\\ModulScrapeWallstreet.py:24: FutureWarning: The frame.append method is deprecated and will be removed from pandas in a future version. Use pandas.concat instead.\n",
      "  future_price_today = future_price_today.append(ser, ignore_index=True)\n",
      "C:\\Users\\Lenovo\\Documents\\GitHub\\ContractCalculator\\ModulScrapeWallstreet.py:24: FutureWarning: The frame.append method is deprecated and will be removed from pandas in a future version. Use pandas.concat instead.\n",
      "  future_price_today = future_price_today.append(ser, ignore_index=True)\n",
      "C:\\Users\\Lenovo\\Documents\\GitHub\\ContractCalculator\\ModulScrapeWallstreet.py:24: FutureWarning: The frame.append method is deprecated and will be removed from pandas in a future version. Use pandas.concat instead.\n",
      "  future_price_today = future_price_today.append(ser, ignore_index=True)\n",
      "C:\\Users\\Lenovo\\Documents\\GitHub\\ContractCalculator\\ModulScrapeWallstreet.py:24: FutureWarning: The frame.append method is deprecated and will be removed from pandas in a future version. Use pandas.concat instead.\n",
      "  future_price_today = future_price_today.append(ser, ignore_index=True)\n",
      "C:\\Users\\Lenovo\\Documents\\GitHub\\ContractCalculator\\ModulScrapeWallstreet.py:24: FutureWarning: The frame.append method is deprecated and will be removed from pandas in a future version. Use pandas.concat instead.\n",
      "  future_price_today = future_price_today.append(ser, ignore_index=True)\n",
      "C:\\Users\\Lenovo\\Documents\\GitHub\\ContractCalculator\\ModulScrapeWallstreet.py:24: FutureWarning: The frame.append method is deprecated and will be removed from pandas in a future version. Use pandas.concat instead.\n",
      "  future_price_today = future_price_today.append(ser, ignore_index=True)\n",
      "C:\\Users\\Lenovo\\Documents\\GitHub\\ContractCalculator\\ModulScrapeWallstreet.py:24: FutureWarning: The frame.append method is deprecated and will be removed from pandas in a future version. Use pandas.concat instead.\n",
      "  future_price_today = future_price_today.append(ser, ignore_index=True)\n"
     ]
    }
   ],
   "source": [
    "future_df = scrape_futureprice()"
   ]
  },
  {
   "cell_type": "code",
   "execution_count": 3,
   "id": "f6007000-ddc1-411c-ba57-29c1a3a851e8",
   "metadata": {},
   "outputs": [
    {
     "data": {
      "text/html": [
       "<div>\n",
       "<style scoped>\n",
       "    .dataframe tbody tr th:only-of-type {\n",
       "        vertical-align: middle;\n",
       "    }\n",
       "\n",
       "    .dataframe tbody tr th {\n",
       "        vertical-align: top;\n",
       "    }\n",
       "\n",
       "    .dataframe thead th {\n",
       "        text-align: right;\n",
       "    }\n",
       "</style>\n",
       "<table border=\"1\" class=\"dataframe\">\n",
       "  <thead>\n",
       "    <tr style=\"text-align: right;\">\n",
       "      <th></th>\n",
       "      <th>kontrakt</th>\n",
       "      <th>price</th>\n",
       "      <th>absolut_inc</th>\n",
       "      <th>perc_inc</th>\n",
       "      <th>date_fullfillment</th>\n",
       "      <th>date_price</th>\n",
       "      <th>currency</th>\n",
       "      <th>commodity_id</th>\n",
       "    </tr>\n",
       "  </thead>\n",
       "  <tbody>\n",
       "    <tr>\n",
       "      <th>0</th>\n",
       "      <td>Mai 2022</td>\n",
       "      <td>351.80</td>\n",
       "      <td>3,15</td>\n",
       "      <td>+0,90 %</td>\n",
       "      <td>2022-05-23</td>\n",
       "      <td>2022-05-15</td>\n",
       "      <td>GBP</td>\n",
       "      <td>2</td>\n",
       "    </tr>\n",
       "    <tr>\n",
       "      <th>1</th>\n",
       "      <td>Jul 2022</td>\n",
       "      <td>347.60</td>\n",
       "      <td>3,15</td>\n",
       "      <td>+0,91 %</td>\n",
       "      <td>2022-07-07</td>\n",
       "      <td>2022-05-15</td>\n",
       "      <td>GBP</td>\n",
       "      <td>2</td>\n",
       "    </tr>\n",
       "    <tr>\n",
       "      <th>2</th>\n",
       "      <td>Nov 2022</td>\n",
       "      <td>336.30</td>\n",
       "      <td>3,15</td>\n",
       "      <td>+0,95 %</td>\n",
       "      <td>2022-11-23</td>\n",
       "      <td>2022-05-15</td>\n",
       "      <td>GBP</td>\n",
       "      <td>2</td>\n",
       "    </tr>\n",
       "    <tr>\n",
       "      <th>3</th>\n",
       "      <td>Jan 2023</td>\n",
       "      <td>338.70</td>\n",
       "      <td>3,55</td>\n",
       "      <td>+1,06 %</td>\n",
       "      <td>2023-01-23</td>\n",
       "      <td>2022-05-15</td>\n",
       "      <td>GBP</td>\n",
       "      <td>2</td>\n",
       "    </tr>\n",
       "    <tr>\n",
       "      <th>4</th>\n",
       "      <td>Mär 2023</td>\n",
       "      <td>340.40</td>\n",
       "      <td>3,45</td>\n",
       "      <td>+1,02 %</td>\n",
       "      <td>2023-03-23</td>\n",
       "      <td>2022-05-15</td>\n",
       "      <td>GBP</td>\n",
       "      <td>2</td>\n",
       "    </tr>\n",
       "    <tr>\n",
       "      <th>5</th>\n",
       "      <td>Mai 2023</td>\n",
       "      <td>342.30</td>\n",
       "      <td>3,35</td>\n",
       "      <td>+0,99 %</td>\n",
       "      <td>2023-05-23</td>\n",
       "      <td>2022-05-15</td>\n",
       "      <td>GBP</td>\n",
       "      <td>2</td>\n",
       "    </tr>\n",
       "    <tr>\n",
       "      <th>6</th>\n",
       "      <td>Jul 2023</td>\n",
       "      <td>316.85</td>\n",
       "      <td>4,35</td>\n",
       "      <td>+1,39 %</td>\n",
       "      <td>2023-07-07</td>\n",
       "      <td>2022-05-15</td>\n",
       "      <td>GBP</td>\n",
       "      <td>2</td>\n",
       "    </tr>\n",
       "    <tr>\n",
       "      <th>7</th>\n",
       "      <td>Nov 2023</td>\n",
       "      <td>286.80</td>\n",
       "      <td>5,35</td>\n",
       "      <td>+1,90 %</td>\n",
       "      <td>2023-11-23</td>\n",
       "      <td>2022-05-15</td>\n",
       "      <td>GBP</td>\n",
       "      <td>2</td>\n",
       "    </tr>\n",
       "    <tr>\n",
       "      <th>8</th>\n",
       "      <td>Jan 2024</td>\n",
       "      <td>287.75</td>\n",
       "      <td>5,35</td>\n",
       "      <td>+1,89 %</td>\n",
       "      <td>2024-01-23</td>\n",
       "      <td>2022-05-15</td>\n",
       "      <td>GBP</td>\n",
       "      <td>2</td>\n",
       "    </tr>\n",
       "    <tr>\n",
       "      <th>9</th>\n",
       "      <td>Mär 2024</td>\n",
       "      <td>289.25</td>\n",
       "      <td>5,35</td>\n",
       "      <td>+1,88 %</td>\n",
       "      <td>2024-03-22</td>\n",
       "      <td>2022-05-15</td>\n",
       "      <td>GBP</td>\n",
       "      <td>2</td>\n",
       "    </tr>\n",
       "  </tbody>\n",
       "</table>\n",
       "</div>"
      ],
      "text/plain": [
       "   kontrakt   price absolut_inc perc_inc date_fullfillment date_price  \\\n",
       "0  Mai 2022  351.80        3,15  +0,90 %        2022-05-23 2022-05-15   \n",
       "1  Jul 2022  347.60        3,15  +0,91 %        2022-07-07 2022-05-15   \n",
       "2  Nov 2022  336.30        3,15  +0,95 %        2022-11-23 2022-05-15   \n",
       "3  Jan 2023  338.70        3,55  +1,06 %        2023-01-23 2022-05-15   \n",
       "4  Mär 2023  340.40        3,45  +1,02 %        2023-03-23 2022-05-15   \n",
       "5  Mai 2023  342.30        3,35  +0,99 %        2023-05-23 2022-05-15   \n",
       "6  Jul 2023  316.85        4,35  +1,39 %        2023-07-07 2022-05-15   \n",
       "7  Nov 2023  286.80        5,35  +1,90 %        2023-11-23 2022-05-15   \n",
       "8  Jan 2024  287.75        5,35  +1,89 %        2024-01-23 2022-05-15   \n",
       "9  Mär 2024  289.25        5,35  +1,88 %        2024-03-22 2022-05-15   \n",
       "\n",
       "  currency  commodity_id  \n",
       "0      GBP             2  \n",
       "1      GBP             2  \n",
       "2      GBP             2  \n",
       "3      GBP             2  \n",
       "4      GBP             2  \n",
       "5      GBP             2  \n",
       "6      GBP             2  \n",
       "7      GBP             2  \n",
       "8      GBP             2  \n",
       "9      GBP             2  "
      ]
     },
     "execution_count": 3,
     "metadata": {},
     "output_type": "execute_result"
    }
   ],
   "source": [
    "future_df"
   ]
  },
  {
   "cell_type": "code",
   "execution_count": 4,
   "id": "ccaf27f3-c0cd-4e62-9908-5dbf4459c268",
   "metadata": {},
   "outputs": [
    {
     "name": "stdout",
     "output_type": "stream",
     "text": [
      "<class 'pandas.core.frame.DataFrame'>\n",
      "RangeIndex: 10 entries, 0 to 9\n",
      "Data columns (total 8 columns):\n",
      " #   Column             Non-Null Count  Dtype         \n",
      "---  ------             --------------  -----         \n",
      " 0   kontrakt           10 non-null     object        \n",
      " 1   price              10 non-null     float64       \n",
      " 2   absolut_inc        10 non-null     object        \n",
      " 3   perc_inc           10 non-null     object        \n",
      " 4   date_fullfillment  10 non-null     datetime64[ns]\n",
      " 5   date_price         10 non-null     datetime64[ns]\n",
      " 6   currency           10 non-null     object        \n",
      " 7   commodity_id       10 non-null     int64         \n",
      "dtypes: datetime64[ns](2), float64(1), int64(1), object(4)\n",
      "memory usage: 768.0+ bytes\n"
     ]
    }
   ],
   "source": [
    "future_df.info()"
   ]
  },
  {
   "cell_type": "code",
   "execution_count": 5,
   "id": "f5b7d72d-132b-4c38-a35b-eb13e5885f7b",
   "metadata": {},
   "outputs": [
    {
     "ename": "InterfaceError",
     "evalue": "Error binding parameter 1 - probably unsupported type.",
     "output_type": "error",
     "traceback": [
      "\u001b[1;31m---------------------------------------------------------------------------\u001b[0m",
      "\u001b[1;31mInterfaceError\u001b[0m                            Traceback (most recent call last)",
      "Input \u001b[1;32mIn [5]\u001b[0m, in \u001b[0;36m<cell line: 1>\u001b[1;34m()\u001b[0m\n\u001b[1;32m----> 1\u001b[0m \u001b[43mfuture_price_to_sql\u001b[49m\u001b[43m(\u001b[49m\u001b[43mfuture_df\u001b[49m\u001b[43m)\u001b[49m\n",
      "File \u001b[1;32m~\\Documents\\GitHub\\ContractCalculator\\ModulScrapeWallstreet.py:48\u001b[0m, in \u001b[0;36mfuture_price_to_sql\u001b[1;34m(future_price_today)\u001b[0m\n\u001b[0;32m     46\u001b[0m cur \u001b[38;5;241m=\u001b[39m con\u001b[38;5;241m.\u001b[39mcursor()\n\u001b[0;32m     47\u001b[0m \u001b[38;5;28;01mfor\u001b[39;00m i \u001b[38;5;129;01min\u001b[39;00m \u001b[38;5;28mrange\u001b[39m(\u001b[38;5;241m0\u001b[39m, \u001b[38;5;28mlen\u001b[39m(future_price_today)):\n\u001b[1;32m---> 48\u001b[0m     \u001b[43mcur\u001b[49m\u001b[38;5;241;43m.\u001b[39;49m\u001b[43mexecute\u001b[49m\u001b[43m(\u001b[49m\u001b[38;5;124;43m\"\"\"\u001b[39;49m\n\u001b[0;32m     49\u001b[0m \u001b[38;5;124;43m    INSERT INTO price_table (\u001b[39;49m\n\u001b[0;32m     50\u001b[0m \u001b[38;5;124;43m    commodity_id, date_fullfillment, date_price, price, currency) \u001b[39;49m\n\u001b[0;32m     51\u001b[0m \u001b[38;5;124;43m    VALUES (?,?,?,?,?)   \u001b[39;49m\n\u001b[0;32m     52\u001b[0m \u001b[38;5;124;43m    \u001b[39;49m\u001b[38;5;124;43m\"\"\"\u001b[39;49m\u001b[43m,\u001b[49m\n\u001b[0;32m     53\u001b[0m \u001b[43m               \u001b[49m\u001b[43m(\u001b[49m\u001b[43mfuture_price_today\u001b[49m\u001b[38;5;241;43m.\u001b[39;49m\u001b[43miloc\u001b[49m\u001b[43m[\u001b[49m\u001b[43mi\u001b[49m\u001b[43m,\u001b[49m\u001b[43m \u001b[49m\u001b[38;5;241;43m7\u001b[39;49m\u001b[43m]\u001b[49m\u001b[43m,\u001b[49m\u001b[43m\\\u001b[49m\n\u001b[0;32m     54\u001b[0m \u001b[43m                \u001b[49m\u001b[43mfuture_price_today\u001b[49m\u001b[38;5;241;43m.\u001b[39;49m\u001b[43miloc\u001b[49m\u001b[43m[\u001b[49m\u001b[43mi\u001b[49m\u001b[43m,\u001b[49m\u001b[43m \u001b[49m\u001b[38;5;241;43m4\u001b[39;49m\u001b[43m]\u001b[49m\u001b[43m,\u001b[49m\u001b[43m\\\u001b[49m\n\u001b[0;32m     55\u001b[0m \u001b[43m                \u001b[49m\u001b[43mfuture_price_today\u001b[49m\u001b[38;5;241;43m.\u001b[39;49m\u001b[43miloc\u001b[49m\u001b[43m[\u001b[49m\u001b[43mi\u001b[49m\u001b[43m,\u001b[49m\u001b[43m \u001b[49m\u001b[38;5;241;43m5\u001b[39;49m\u001b[43m]\u001b[49m\u001b[43m,\u001b[49m\u001b[43m\\\u001b[49m\n\u001b[0;32m     56\u001b[0m \u001b[43m                \u001b[49m\u001b[43mfuture_price_today\u001b[49m\u001b[38;5;241;43m.\u001b[39;49m\u001b[43miloc\u001b[49m\u001b[43m[\u001b[49m\u001b[43mi\u001b[49m\u001b[43m,\u001b[49m\u001b[43m \u001b[49m\u001b[38;5;241;43m1\u001b[39;49m\u001b[43m]\u001b[49m\u001b[43m,\u001b[49m\u001b[43m\\\u001b[49m\n\u001b[0;32m     57\u001b[0m \u001b[43m                \u001b[49m\u001b[43mfuture_price_today\u001b[49m\u001b[38;5;241;43m.\u001b[39;49m\u001b[43miloc\u001b[49m\u001b[43m[\u001b[49m\u001b[43mi\u001b[49m\u001b[43m,\u001b[49m\u001b[43m \u001b[49m\u001b[38;5;241;43m6\u001b[39;49m\u001b[43m]\u001b[49m\u001b[43m)\u001b[49m\n\u001b[0;32m     58\u001b[0m \u001b[43m               \u001b[49m\u001b[43m)\u001b[49m\n\u001b[0;32m     59\u001b[0m con\u001b[38;5;241m.\u001b[39mcommit()\n\u001b[0;32m     60\u001b[0m \u001b[38;5;28;01mreturn\u001b[39;00m\n",
      "\u001b[1;31mInterfaceError\u001b[0m: Error binding parameter 1 - probably unsupported type."
     ]
    }
   ],
   "source": [
    "future_price_to_sql(future_df)"
   ]
  },
  {
   "cell_type": "code",
   "execution_count": 6,
   "id": "f369aad6-a732-4e7a-835f-d0dbabe39af7",
   "metadata": {},
   "outputs": [],
   "source": [
    "future_df.to_csv('Data/future_df')"
   ]
  }
 ],
 "metadata": {
  "kernelspec": {
   "display_name": "Python 3 (ipykernel)",
   "language": "python",
   "name": "python3"
  },
  "language_info": {
   "codemirror_mode": {
    "name": "ipython",
    "version": 3
   },
   "file_extension": ".py",
   "mimetype": "text/x-python",
   "name": "python",
   "nbconvert_exporter": "python",
   "pygments_lexer": "ipython3",
   "version": "3.9.7"
  }
 },
 "nbformat": 4,
 "nbformat_minor": 5
}
