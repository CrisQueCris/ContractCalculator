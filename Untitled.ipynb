{
 "cells": [
  {
   "cell_type": "code",
   "execution_count": 5,
   "id": "6cfebce9-0318-48cc-b77e-0e46eaca354f",
   "metadata": {},
   "outputs": [],
   "source": [
    "import sqlite3\n",
    "import pandas as pd\n",
    "con = sqlite3.connect('contrcalc.db')\n",
    "commodities_df = pd.read_sql(\"Select * from commodities\", con, index_col='commodity_id')\n"
   ]
  },
  {
   "cell_type": "code",
   "execution_count": 6,
   "id": "06897882-b117-440b-b716-298403f3bbc9",
   "metadata": {},
   "outputs": [
    {
     "data": {
      "text/plain": [
       "['Barley', 'Wheat', 'Corn', 'Rapeseed']"
      ]
     },
     "execution_count": 6,
     "metadata": {},
     "output_type": "execute_result"
    }
   ],
   "source": [
    "[com for com in commodities_df['name']]"
   ]
  },
  {
   "cell_type": "code",
   "execution_count": 9,
   "id": "396f819a-8ab5-45d0-9339-8f52d810bc6a",
   "metadata": {},
   "outputs": [
    {
     "data": {
      "text/plain": [
       "'Barley'"
      ]
     },
     "execution_count": 9,
     "metadata": {},
     "output_type": "execute_result"
    }
   ],
   "source": [
    "commodities_df['name'][1]"
   ]
  }
 ],
 "metadata": {
  "kernelspec": {
   "display_name": "Python 3 (ipykernel)",
   "language": "python",
   "name": "python3"
  },
  "language_info": {
   "codemirror_mode": {
    "name": "ipython",
    "version": 3
   },
   "file_extension": ".py",
   "mimetype": "text/x-python",
   "name": "python",
   "nbconvert_exporter": "python",
   "pygments_lexer": "ipython3",
   "version": "3.9.7"
  }
 },
 "nbformat": 4,
 "nbformat_minor": 5
}
